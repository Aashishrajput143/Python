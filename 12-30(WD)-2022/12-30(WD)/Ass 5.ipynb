{
 "cells": [
  {
   "cell_type": "markdown",
   "id": "711e41c5-7637-4b4c-badf-fc77d4db5308",
   "metadata": {},
   "source": [
    "**1. Write a Python program to sum all the items in a list.**"
   ]
  },
  {
   "cell_type": "code",
   "execution_count": 1,
   "id": "339a72d9-5552-41c6-b8aa-745cefa1ea42",
   "metadata": {},
   "outputs": [
    {
     "name": "stdout",
     "output_type": "stream",
     "text": [
      "55\n"
     ]
    }
   ],
   "source": [
    "l=[1,2,3,4,5,6,7,8,9,10]\n",
    "print(sum(l))"
   ]
  },
  {
   "cell_type": "markdown",
   "id": "688490da-3854-4e63-bfc5-57b4e0d19136",
   "metadata": {},
   "source": [
    "**2. Write a Python program to get the largest number from a list.**"
   ]
  },
  {
   "cell_type": "code",
   "execution_count": 2,
   "id": "3247be45-1436-4e2e-ab0b-ada81b372ffc",
   "metadata": {},
   "outputs": [
    {
     "name": "stdout",
     "output_type": "stream",
     "text": [
      "10\n"
     ]
    }
   ],
   "source": [
    "l=[1,2,3,4,5,6,7,8,9,10]\n",
    "print(max(l))"
   ]
  },
  {
   "cell_type": "markdown",
   "id": "45055cd5-647e-4503-bdfe-4c872ca93fdb",
   "metadata": {},
   "source": [
    "**3. Write a Python program to count the number of strings where the string length \n",
    "is 2 or more and the first and last character are same from a given list of strings.**"
   ]
  },
  {
   "cell_type": "code",
   "execution_count": 12,
   "id": "3e26b271-7ca9-4cd9-9166-6d2161873210",
   "metadata": {},
   "outputs": [
    {
     "name": "stdout",
     "output_type": "stream",
     "text": [
      "2\n"
     ]
    }
   ],
   "source": [
    "l=['abc','xyz','aba','1221']\n",
    "count=0\n",
    "for i in l:\n",
    "    if(len(i)>1 and i[0]==i[-1]):\n",
    "        count+=1\n",
    "print(count)"
   ]
  },
  {
   "cell_type": "markdown",
   "id": "a639aaaf-27c1-4a2f-bf35-48faee966f6b",
   "metadata": {},
   "source": [
    "**4. Write a Python program to remove duplicates from a list.**"
   ]
  },
  {
   "cell_type": "code",
   "execution_count": 7,
   "id": "ef50ad15-a776-4e96-96bc-6a2ab2cb39cf",
   "metadata": {},
   "outputs": [
    {
     "name": "stdout",
     "output_type": "stream",
     "text": [
      "{'xyz', 'abc', '52536', '5236', '1221'}\n"
     ]
    }
   ],
   "source": [
    "l=['abc','xyz','abc','52536','1221','5236','1221']\n",
    "dup=set(l)\n",
    "print(dup)"
   ]
  },
  {
   "cell_type": "markdown",
   "id": "a3b921f2-b429-4136-aac9-6d69d0807272",
   "metadata": {},
   "source": [
    "**5. Write a Python program to check a list is empty or not.**"
   ]
  },
  {
   "cell_type": "code",
   "execution_count": 9,
   "id": "16cf9320-95f3-4c61-8df5-d554a8313f59",
   "metadata": {},
   "outputs": [
    {
     "name": "stdout",
     "output_type": "stream",
     "text": [
      "The list is not empty\n"
     ]
    }
   ],
   "source": [
    "l=['abc','xyz','abc','52536','1221','5236','1221']\n",
    "if(len(l)==0):\n",
    "    print('The list is empty')\n",
    "else:\n",
    "    print('The list is not empty')"
   ]
  },
  {
   "cell_type": "markdown",
   "id": "bdc18c6c-531b-4fff-b9ed-066097e1ead5",
   "metadata": {},
   "source": [
    "**6. Write a Python program to print a specified list after removing the 0th, 4th and \n",
    "5th elements.**"
   ]
  },
  {
   "cell_type": "code",
   "execution_count": 31,
   "id": "72f1e69d-6e39-42af-a229-4464919bc2cb",
   "metadata": {},
   "outputs": [
    {
     "name": "stdout",
     "output_type": "stream",
     "text": [
      "[2, 3, 4, 7, 8, 9, 10]\n"
     ]
    }
   ],
   "source": [
    "l=[1,2,3,4,5,6,7,8,9,10]\n",
    "l=[x for (i,x) in enumerate(l) if i not in (0,4,5)]\n",
    "print(l)"
   ]
  },
  {
   "cell_type": "markdown",
   "id": "b2ece46a-de99-43c5-b0c7-b9ae17f87f77",
   "metadata": {},
   "source": [
    "**7. Write a Python program to print the numbers of a specified list after removing \n",
    "even numbers from it.**"
   ]
  },
  {
   "cell_type": "code",
   "execution_count": 2,
   "id": "80773d9f-48a1-448b-b1df-7c4328c32689",
   "metadata": {},
   "outputs": [
    {
     "name": "stdout",
     "output_type": "stream",
     "text": [
      "[1, 3, 5, 7, 9]\n"
     ]
    }
   ],
   "source": [
    "l=[1,2,3,4,5,6,7,8,9,10]\n",
    "odd=[x for x in l if x%2!=0]\n",
    "print(odd)"
   ]
  },
  {
   "cell_type": "markdown",
   "id": "8e5a09f9-4361-4584-b2d2-85914df5fdf5",
   "metadata": {},
   "source": [
    "**8. Write a Python program to convert a list of characters into a string.**"
   ]
  },
  {
   "cell_type": "code",
   "execution_count": 6,
   "id": "a6ff5575-c714-4d24-bf55-33dadbb441bc",
   "metadata": {},
   "outputs": [
    {
     "name": "stdout",
     "output_type": "stream",
     "text": [
      "Aashish\n"
     ]
    }
   ],
   "source": [
    "l=['A','a','s','h','i','s','h']\n",
    "a=''.join(l)\n",
    "print(a)"
   ]
  },
  {
   "cell_type": "markdown",
   "id": "8672d415-4426-49de-b73e-4dfa4152c768",
   "metadata": {},
   "source": [
    "**9. Write a Python program to find the second largest number in a list.**"
   ]
  },
  {
   "cell_type": "code",
   "execution_count": 9,
   "id": "3b118097-c676-4701-beed-55fd9abacc2f",
   "metadata": {},
   "outputs": [
    {
     "name": "stdout",
     "output_type": "stream",
     "text": [
      "second largest number 83\n"
     ]
    }
   ],
   "source": [
    "l=[51,22,83,47,45,66,72,18,89,10]\n",
    "l.sort()\n",
    "print('second largest number',l[-2])"
   ]
  },
  {
   "cell_type": "markdown",
   "id": "97af0292-ddc4-4b4f-b9dd-927d0f7f1907",
   "metadata": {},
   "source": [
    "**10. Write a Python program to get unique values from a list.**"
   ]
  },
  {
   "cell_type": "code",
   "execution_count": 10,
   "id": "e41340da-2460-4634-b584-8d093d98b60b",
   "metadata": {},
   "outputs": [
    {
     "name": "stdout",
     "output_type": "stream",
     "text": [
      "[66, 72, 10, 45, 47, 18, 83, 51, 22, 89]\n"
     ]
    }
   ],
   "source": [
    "l=[51,22,83,47,45,66,72,18,89,10]\n",
    "l=set(l)\n",
    "l=list(l)\n",
    "print(l)"
   ]
  },
  {
   "cell_type": "code",
   "execution_count": null,
   "id": "9aac293c-8897-4199-bf00-2af54e293c0a",
   "metadata": {},
   "outputs": [],
   "source": []
  }
 ],
 "metadata": {
  "kernelspec": {
   "display_name": "Python 3 (ipykernel)",
   "language": "python",
   "name": "python3"
  },
  "language_info": {
   "codemirror_mode": {
    "name": "ipython",
    "version": 3
   },
   "file_extension": ".py",
   "mimetype": "text/x-python",
   "name": "python",
   "nbconvert_exporter": "python",
   "pygments_lexer": "ipython3",
   "version": "3.9.7"
  }
 },
 "nbformat": 4,
 "nbformat_minor": 5
}
