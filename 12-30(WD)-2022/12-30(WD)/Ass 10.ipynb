{
 "cells": [
  {
   "cell_type": "code",
   "execution_count": null,
   "id": "3dfe9801-1b84-4588-8b46-6cd686ef0e39",
   "metadata": {},
   "outputs": [],
   "source": [
    "import re"
   ]
  },
  {
   "cell_type": "markdown",
   "id": "f6658dfe-e027-4616-b325-92f86c818c37",
   "metadata": {},
   "source": [
    "**1. Write a Python program to check that a string contains only a certain\n",
    "set of characters (in this case a-z, A-Z and 0-9).**"
   ]
  },
  {
   "cell_type": "code",
   "execution_count": 33,
   "id": "765943cc-83b4-45bc-afab-dd63f62c8ce8",
   "metadata": {},
   "outputs": [
    {
     "name": "stdin",
     "output_type": "stream",
     "text": [
      "enter the string: aashish145458_\n"
     ]
    },
    {
     "name": "stdout",
     "output_type": "stream",
     "text": [
      "the string contains ab at place 0\n"
     ]
    }
   ],
   "source": [
    "file=input('enter the string:')\n",
    "f=re.search(\"[^a-zA-Z0-9]\",file)\n",
    "if f:\n",
    "    print('the string contains', m.group(), 'at place', m.start())\n",
    "else:\n",
    "    print('the string contains only digits 0-9 and letters of english alphabet')"
   ]
  },
  {
   "cell_type": "markdown",
   "id": "cd21cc7b-1545-4102-952c-643365eb650d",
   "metadata": {},
   "source": [
    "**2. Write a Python program that matches a string that has an a followed\n",
    "by zero or more b's.**"
   ]
  },
  {
   "cell_type": "code",
   "execution_count": 25,
   "id": "11c35949-a0eb-41ef-af10-edd8d5cc4c16",
   "metadata": {},
   "outputs": [
    {
     "name": "stdout",
     "output_type": "stream",
     "text": [
      "it's a match\n"
     ]
    }
   ],
   "source": [
    "file=input('enter the string:')\n",
    "f=re.search(\"ab*\",file)\n",
    "if f:\n",
    "    print('it\\'s a match')\n",
    "else:\n",
    "    print('no match found')\n"
   ]
  },
  {
   "cell_type": "markdown",
   "id": "ef366ec8-4fe6-4612-9f60-a219a20ec726",
   "metadata": {},
   "source": [
    "**3. Write a Python program that matches a string that has an a followed by one or more b's.**"
   ]
  },
  {
   "cell_type": "code",
   "execution_count": 35,
   "id": "ce0688fd-ad91-4079-945f-74a7dbddafae",
   "metadata": {},
   "outputs": [
    {
     "name": "stdin",
     "output_type": "stream",
     "text": [
      "enter the string: aabbbbb\n"
     ]
    },
    {
     "name": "stdout",
     "output_type": "stream",
     "text": [
      "it's a match\n"
     ]
    }
   ],
   "source": [
    "file=input('enter the string:')\n",
    "f=re.search(\"ab+\",file)\n",
    "if f:\n",
    "    print('it\\'s a match')\n",
    "else:\n",
    "    print('no match found')"
   ]
  },
  {
   "cell_type": "markdown",
   "id": "4d3ab80c-d932-4340-98de-41aa27a36455",
   "metadata": {},
   "source": [
    "**4. Write a Python program that matches a string that has an a followed by zero or one 'b'.**"
   ]
  },
  {
   "cell_type": "code",
   "execution_count": 11,
   "id": "c984598f-d03c-4b4d-8a51-654d9628d139",
   "metadata": {},
   "outputs": [
    {
     "name": "stdout",
     "output_type": "stream",
     "text": [
      "<re.Match object; span=(0, 2), match='ab'>\n"
     ]
    }
   ],
   "source": [
    "file=input('enter the string:')\n",
    "f=re.search(\"ab?\",file)\n",
    "if f:\n",
    "    print('it\\'s a match')\n",
    "else:\n",
    "    print('no match found')"
   ]
  },
  {
   "cell_type": "markdown",
   "id": "975a87f5-9130-4908-bcca-145fd0b7485c",
   "metadata": {},
   "source": [
    "**5. Write a Python program that matches a string that has an a followed by three 'b'.**"
   ]
  },
  {
   "cell_type": "code",
   "execution_count": 12,
   "id": "d9ec2cbe-1188-4206-8ddf-d44e9acb2db3",
   "metadata": {},
   "outputs": [
    {
     "name": "stdout",
     "output_type": "stream",
     "text": [
      "<re.Match object; span=(0, 4), match='abbb'>\n"
     ]
    }
   ],
   "source": [
    "f=re.search(\"abbb\",\"abbbbcde\")\n",
    "if f:\n",
    "    print('it\\'s a match')\n",
    "else:\n",
    "    print('no match found')"
   ]
  },
  {
   "cell_type": "markdown",
   "id": "8dfc758c-cacb-4ed3-8cde-980ee40f9c76",
   "metadata": {},
   "source": [
    "**6. Write a Python program that matches a string that has an a followed by two to three 'b'.**"
   ]
  },
  {
   "cell_type": "code",
   "execution_count": 17,
   "id": "3772efe2-9450-44a6-9899-ecf25bc80b80",
   "metadata": {},
   "outputs": [
    {
     "name": "stdout",
     "output_type": "stream",
     "text": [
      "<re.Match object; span=(0, 3), match='aaa'>\n"
     ]
    }
   ],
   "source": [
    "file=input('enter the string:')\n",
    "f=re.search(\"a{2,3}\",file)\n",
    "if f:\n",
    "    print('it\\'s a match')\n",
    "else:\n",
    "    print('no match found')"
   ]
  },
  {
   "cell_type": "markdown",
   "id": "9e66f3f7-e163-4bb8-852a-c3a53f242d70",
   "metadata": {},
   "source": [
    "**7. Write a Python program to find sequences of lowercase letters joined with an underscore.**"
   ]
  },
  {
   "cell_type": "code",
   "execution_count": 82,
   "id": "78787d13-9513-4d46-aa18-cf7443012014",
   "metadata": {},
   "outputs": [
    {
     "name": "stdin",
     "output_type": "stream",
     "text": [
      "enter the string: jhbi_nmkjhn\n"
     ]
    },
    {
     "name": "stdout",
     "output_type": "stream",
     "text": [
      "it's a match\n"
     ]
    }
   ],
   "source": [
    "file=input('enter the string:')\n",
    "f=re.search(\"[a-z]+_[a-z]+\",file)\n",
    "if f:\n",
    "    print('it\\'s a match')\n",
    "else:\n",
    "    print('no match found')"
   ]
  },
  {
   "cell_type": "markdown",
   "id": "506163bf-5a39-43e8-987f-e238261005f2",
   "metadata": {},
   "source": [
    "**8. Write a Python program to find the sequences of one upper case letter followed by lower case letters.**"
   ]
  },
  {
   "cell_type": "code",
   "execution_count": 40,
   "id": "463a8f94-d4d3-4fae-92be-5880a936d00c",
   "metadata": {},
   "outputs": [
    {
     "name": "stdin",
     "output_type": "stream",
     "text": [
      "enter the string: AaaAcbb\n"
     ]
    },
    {
     "name": "stdout",
     "output_type": "stream",
     "text": [
      "it's a match\n"
     ]
    }
   ],
   "source": [
    "file=input('enter the string:')\n",
    "f=re.search(\"[A-Z]+[a-z]+\",file)\n",
    "if f:\n",
    "    print('it\\'s a match')\n",
    "else:\n",
    "    print('no match found')"
   ]
  },
  {
   "cell_type": "markdown",
   "id": "ecbeb690-7812-4e90-8b8d-4ad795f84211",
   "metadata": {},
   "source": [
    "**9. Write a Python program that matches a string that has an 'a' followed by anything, ending in 'b'.**"
   ]
  },
  {
   "cell_type": "code",
   "execution_count": 43,
   "id": "104e3f7c-f84f-4c0e-8b2b-0d24e9987f45",
   "metadata": {},
   "outputs": [
    {
     "name": "stdin",
     "output_type": "stream",
     "text": [
      "enter the string: nzkxnvnznv\n"
     ]
    },
    {
     "name": "stdout",
     "output_type": "stream",
     "text": [
      "no match found\n"
     ]
    }
   ],
   "source": [
    "file=input('enter the string:')\n",
    "f=re.search(\"a.*?b$\",file)\n",
    "if f:\n",
    "    print('it\\'s a match')\n",
    "else:\n",
    "    print('no match found')"
   ]
  },
  {
   "cell_type": "markdown",
   "id": "8478beb0-3be5-4cd8-86a1-1b4e2917292d",
   "metadata": {},
   "source": [
    "**10. Write a Python program that matches a word at the beginning of a string.**"
   ]
  },
  {
   "cell_type": "code",
   "execution_count": 32,
   "id": "f29f8ac3-428b-473b-b91a-eed1195e781a",
   "metadata": {},
   "outputs": [
    {
     "name": "stdin",
     "output_type": "stream",
     "text": [
      "enter the string: \n"
     ]
    },
    {
     "name": "stdout",
     "output_type": "stream",
     "text": [
      "no match found\n"
     ]
    }
   ],
   "source": [
    "file=input('enter the string:')\n",
    "f=re.search(\"^\\w+\",file)\n",
    "if f:\n",
    "    print('it\\'s a match')\n",
    "else:\n",
    "    print('no match found')"
   ]
  },
  {
   "cell_type": "markdown",
   "id": "c27e59c6-a972-4d88-810a-a9b891eb666f",
   "metadata": {},
   "source": [
    "**11. Write a Python program that matches a word at end of string, with optional punctuation.**"
   ]
  },
  {
   "cell_type": "code",
   "execution_count": 8,
   "id": "8d9e2a2a-fa48-4482-b57c-d64166d2276c",
   "metadata": {},
   "outputs": [
    {
     "name": "stdin",
     "output_type": "stream",
     "text": [
      "enter the string: aashish\n"
     ]
    },
    {
     "name": "stdout",
     "output_type": "stream",
     "text": [
      "it's a match\n"
     ]
    }
   ],
   "source": [
    "file=input('enter the string:')\n",
    "f=re.search('\\w+\\S*$',file)\n",
    "if f:\n",
    "    print('it\\'s a match')\n",
    "else:\n",
    "    print('no match found')"
   ]
  },
  {
   "cell_type": "markdown",
   "id": "6bbd16a6-4a80-4260-8191-94a1c2492efb",
   "metadata": {},
   "source": [
    "**12. Write a Python program that matches a word containing 'z'.**"
   ]
  },
  {
   "cell_type": "code",
   "execution_count": 10,
   "id": "bc565124-b43a-471b-8456-807edc272ced",
   "metadata": {},
   "outputs": [
    {
     "name": "stdin",
     "output_type": "stream",
     "text": [
      "enter the string: aashidg\n"
     ]
    },
    {
     "name": "stdout",
     "output_type": "stream",
     "text": [
      "no match found\n"
     ]
    }
   ],
   "source": [
    "file=input('enter the string:')\n",
    "f=re.search('\\w*z\\w*$',file)\n",
    "if f:\n",
    "    print('it\\'s a match')\n",
    "else:\n",
    "    print('no match found')"
   ]
  },
  {
   "cell_type": "markdown",
   "id": "f44e7cb5-14a7-4e3e-9e8b-8bdd9e88277a",
   "metadata": {},
   "source": [
    "**13. Write a Python program that matches a word containing 'z', not start or end of the word.**"
   ]
  },
  {
   "cell_type": "code",
   "execution_count": 15,
   "id": "1fcaecc9-f30f-4cc9-95c3-9471190fbad1",
   "metadata": {},
   "outputs": [
    {
     "name": "stdin",
     "output_type": "stream",
     "text": [
      "enter the string: fdgfdzghkjlh\n"
     ]
    },
    {
     "name": "stdout",
     "output_type": "stream",
     "text": [
      "it's a match\n"
     ]
    }
   ],
   "source": [
    "file=input('enter the string:')\n",
    "f=re.search('\\w+z\\w+$',file)\n",
    "if f:\n",
    "    print('it\\'s a match')\n",
    "else:\n",
    "    print('no match found')"
   ]
  },
  {
   "cell_type": "markdown",
   "id": "8eebc78e-f15b-47fb-8ff6-3eec82b36eee",
   "metadata": {},
   "source": [
    "**14. Write a Python program to match a string that contains only upper and\n",
    "lowercase letters, numbers, and underscores.**"
   ]
  },
  {
   "cell_type": "code",
   "execution_count": 29,
   "id": "d5fe97f6-ee25-4675-bf53-a35cf3b77a21",
   "metadata": {},
   "outputs": [
    {
     "name": "stdin",
     "output_type": "stream",
     "text": [
      "enter the string: Aashish_1\n"
     ]
    },
    {
     "name": "stdout",
     "output_type": "stream",
     "text": [
      "no match found\n"
     ]
    }
   ],
   "source": [
    "file=input('enter the string:')\n",
    "f=re.search('[^0-9A-Za-z_]+',file)\n",
    "if f:\n",
    "    print('it\\'s a match')\n",
    "else:\n",
    "    print('no match found')"
   ]
  },
  {
   "cell_type": "markdown",
   "id": "08fed2d0-9948-477f-956e-7106e4aad9c6",
   "metadata": {},
   "source": [
    "**15. Write a Python program where a string will start with a specific number.**"
   ]
  },
  {
   "cell_type": "code",
   "execution_count": 38,
   "id": "673b75b0-1b15-4a9f-95a1-f6097f0810ce",
   "metadata": {},
   "outputs": [
    {
     "name": "stdin",
     "output_type": "stream",
     "text": [
      "enter the string: 4\n",
      "enter the number: 4\n"
     ]
    },
    {
     "name": "stdout",
     "output_type": "stream",
     "text": [
      "it's a match\n"
     ]
    }
   ],
   "source": [
    "file=input('enter the string:')\n",
    "num=input('enter the number:')\n",
    "f=re.search(num,file)\n",
    "if f:\n",
    "    print('it\\'s a match')\n",
    "else:\n",
    "    print('no match found')"
   ]
  },
  {
   "cell_type": "markdown",
   "id": "d294d114-7ffd-4cfb-869f-75915ed1e7cb",
   "metadata": {},
   "source": [
    "**16. Write a Python program to remove leading zeros from an IP address.**"
   ]
  },
  {
   "cell_type": "code",
   "execution_count": 40,
   "id": "72dae988-7294-427a-8047-55b92c6a33ed",
   "metadata": {},
   "outputs": [
    {
     "name": "stdin",
     "output_type": "stream",
     "text": [
      "enter the IP address: 154.0245.4025.0045\n"
     ]
    },
    {
     "name": "stdout",
     "output_type": "stream",
     "text": [
      "154.245.4025.45\n"
     ]
    }
   ],
   "source": [
    "IP=input('enter the IP address:')\n",
    "my_IP=re.sub('\\.0*', '.',IP)\n",
    "print(my_IP)"
   ]
  },
  {
   "cell_type": "markdown",
   "id": "e356b18e-ab57-458e-8552-03e4814401ab",
   "metadata": {},
   "source": [
    "**17. Write a Python program to check for a number at the end of a string.**"
   ]
  },
  {
   "cell_type": "code",
   "execution_count": 46,
   "id": "e2ba9935-dbc7-47f2-a36d-cc0cc6618b0f",
   "metadata": {},
   "outputs": [
    {
     "name": "stdin",
     "output_type": "stream",
     "text": [
      "enter the string: this is happy12\n",
      "enter the number: 12\n"
     ]
    },
    {
     "name": "stdout",
     "output_type": "stream",
     "text": [
      "it's a match\n"
     ]
    }
   ],
   "source": [
    "file=input('enter the string:')\n",
    "num=input('enter the number:')\n",
    "f=re.search(num+'$',file)\n",
    "if f:\n",
    "    print('it\\'s a match')\n",
    "else:\n",
    "    print('no match found')"
   ]
  },
  {
   "cell_type": "markdown",
   "id": "921b7462-b3ae-4123-b83e-c80127845691",
   "metadata": {},
   "source": [
    "**18. Write a Python program to search the numbers (0-9) of length between\n",
    "1 to 3 in a given string.**"
   ]
  },
  {
   "cell_type": "code",
   "execution_count": 41,
   "id": "4ef102fa-14d3-42b3-829d-920dfcde9b51",
   "metadata": {},
   "outputs": [
    {
     "name": "stdout",
     "output_type": "stream",
     "text": [
      "<re.Match object; span=(14, 17), match='123'>\n"
     ]
    }
   ],
   "source": [
    "file='this is python12345'\n",
    "f=re.search('[0-9]{1,3}',file)\n",
    "print(f)"
   ]
  },
  {
   "cell_type": "markdown",
   "id": "993f79e5-a264-4f4e-8a01-b9bcf939386f",
   "metadata": {},
   "source": [
    "**19. Write a Python program to search some literals strings in a string. \n",
    "Sample text : 'The quick brown fox jumps over the lazy dog.'\n",
    "Searched words : 'fox', 'dog', 'horse'**"
   ]
  },
  {
   "cell_type": "code",
   "execution_count": 42,
   "id": "3e46b610-9932-450a-affa-2f8b27ac8941",
   "metadata": {},
   "outputs": [
    {
     "name": "stdout",
     "output_type": "stream",
     "text": [
      "<re.Match object; span=(16, 19), match='fox'>\n"
     ]
    }
   ],
   "source": [
    "file = 'The quick brown fox jumps over the lazy dog.'\n",
    "f = re.search('cat|dog|fox|horse', file)\n",
    "print(f)"
   ]
  },
  {
   "cell_type": "markdown",
   "id": "e061ad4d-dd7f-4795-9a5c-840d7a941a94",
   "metadata": {},
   "source": [
    "**20. Write a Python program to search a literals string in a string and also\n",
    "find the location within the original string where the pattern occurs. \n",
    "Sample text : 'The quick brown fox jumps over the lazy dog.'\n",
    "Searched words : 'fox'**"
   ]
  },
  {
   "cell_type": "code",
   "execution_count": 43,
   "id": "b8997437-e160-422c-94a9-9a002c564aa5",
   "metadata": {},
   "outputs": [
    {
     "name": "stdout",
     "output_type": "stream",
     "text": [
      "<re.Match object; span=(16, 19), match='fox'>\n"
     ]
    }
   ],
   "source": [
    "file = 'The quick brown fox jumps over the lazy dog.'\n",
    "f = re.search('fox', file)\n",
    "print(f)"
   ]
  },
  {
   "cell_type": "markdown",
   "id": "5ef67f49-74b4-4238-908e-69e94f1af226",
   "metadata": {},
   "source": [
    "**21. Write a Python program to find the substrings within a string. \n",
    "Sample text : 'Python exercises, PHP exercises, C# exercises'\n",
    "Pattern : 'exercises'\n",
    "Note: There are two instances of exercises in the input string.**"
   ]
  },
  {
   "cell_type": "code",
   "execution_count": null,
   "id": "5113ba04-43ef-4548-b7ea-44d45625aa2a",
   "metadata": {},
   "outputs": [
    {
     "name": "stdout",
     "output_type": "stream",
     "text": [
      "['exercises', 'exercises', 'exercises']\n"
     ]
    }
   ],
   "source": [
    "file='Python exercises, PHP exercises, C# exercises'\n",
    "substring='exercises'\n",
    "f = re.findall(substring,file)\n",
    "if f:\n",
    "    print('it\\'s a match', len(f))\n",
    "else:\n",
    "    print('no match found')"
   ]
  },
  {
   "cell_type": "markdown",
   "id": "1635c8b9-0f3f-4617-b5bc-7259557c61dc",
   "metadata": {},
   "source": [
    "**22. Write a Python program to find the occurrence and position of the\n",
    "substrings within a string.**"
   ]
  },
  {
   "cell_type": "code",
   "execution_count": 56,
   "id": "a568db0a-b572-48a8-a850-2c27c4ec4674",
   "metadata": {},
   "outputs": [
    {
     "name": "stdout",
     "output_type": "stream",
     "text": [
      "string 'exercises' found at position (7, 16)\n",
      "string 'exercises' found at position (22, 31)\n",
      "string 'exercises' found at position (36, 45)\n"
     ]
    }
   ],
   "source": [
    "file='Python exercises, PHP exercises, C# exercises'\n",
    "substring='exercises'\n",
    "f = re.finditer(substring,file)\n",
    "for match in f:\n",
    "    print('string \\'{}\\''.format(substring), 'found at position', match.span())"
   ]
  },
  {
   "cell_type": "markdown",
   "id": "b8031acb-b628-41f1-89c2-b2c2d64ce252",
   "metadata": {},
   "source": [
    "**23. Write a Python program to replace whitespaces with an underscore and\n",
    "vice versa.**"
   ]
  },
  {
   "cell_type": "code",
   "execution_count": 8,
   "id": "d09a4891-dad1-4059-b231-29c3542d7882",
   "metadata": {},
   "outputs": [
    {
     "name": "stdout",
     "output_type": "stream",
     "text": [
      "This_is_python\n",
      "This is python\n"
     ]
    }
   ],
   "source": [
    "file = 'This is python'\n",
    "f = re.sub('\\s', '_',file)\n",
    "print(f)\n",
    "m = re.sub('_', ' ', f)\n",
    "print(m)"
   ]
  },
  {
   "cell_type": "markdown",
   "id": "5982abc6-0f3f-4e5a-9f54-4bf20eca1ee1",
   "metadata": {},
   "source": [
    "**24. Write a Python program to extract year, month and date from an url.**"
   ]
  },
  {
   "cell_type": "code",
   "execution_count": 83,
   "id": "36f935a7-f3a1-4fa9-a803-d962d2640f9b",
   "metadata": {},
   "outputs": [
    {
     "name": "stdout",
     "output_type": "stream",
     "text": [
      "[('2016', '09', '02')]\n"
     ]
    }
   ],
   "source": [
    "url=\"https://www.washingtonpost.com/football/wp/2016/09/02/odell\"\n",
    "f=re.findall(r'/(\\d{4})/(\\d{1,2})/(\\d{1,2})/', url)\n",
    "print(f)"
   ]
  },
  {
   "cell_type": "markdown",
   "id": "5cbd8be8-16af-4e51-802f-d8656dd7c7c9",
   "metadata": {},
   "source": [
    "**25. Write a Python program to convert a date of yyyy-mm-dd format to dd-mm-yyyy\n",
    "format.**"
   ]
  },
  {
   "cell_type": "code",
   "execution_count": 60,
   "id": "5ad3b562-a14c-47aa-97ee-4583d762b9e0",
   "metadata": {},
   "outputs": [
    {
     "name": "stdin",
     "output_type": "stream",
     "text": [
      "enter the date in yyyy-mm-dd format: 2022-02-24\n"
     ]
    },
    {
     "name": "stdout",
     "output_type": "stream",
     "text": [
      "24-02-2022\n"
     ]
    }
   ],
   "source": [
    "date=input('enter the date in yyyy-mm-dd format:')\n",
    "f=re.split('-',date)\n",
    "new_date = '-'.join(f[::-1])\n",
    "print(new_date)"
   ]
  },
  {
   "cell_type": "markdown",
   "id": "7e5a2ab0-8254-4f56-8cf5-6491830aa067",
   "metadata": {},
   "source": [
    "**26. Write a Python program to match if two words from a list of words starting\n",
    "with letter 'P'.**"
   ]
  },
  {
   "cell_type": "code",
   "execution_count": 61,
   "id": "bfde6e1e-e471-4955-9bc6-23b6f247d3ee",
   "metadata": {},
   "outputs": [
    {
     "name": "stdout",
     "output_type": "stream",
     "text": [
      "Python Program\n"
     ]
    }
   ],
   "source": [
    "my_list = ['Python Program', 'hello world', 'python program']\n",
    "for phrase in my_list:\n",
    "    if re.match('P\\w*\\sP\\w*', phrase):\n",
    "        print(phrase)"
   ]
  },
  {
   "cell_type": "markdown",
   "id": "7c62d39d-eab3-4dfa-b5c4-5ef82dc476a7",
   "metadata": {},
   "source": [
    "**27. Write a Python program to separate and print the numbers of a given string.**"
   ]
  },
  {
   "cell_type": "code",
   "execution_count": 37,
   "id": "0a034896-2ae7-445f-915b-ac221714ac52",
   "metadata": {},
   "outputs": [
    {
     "name": "stdout",
     "output_type": "stream",
     "text": [
      "01\n",
      "02\n",
      "03\n",
      "04\n",
      "05\n"
     ]
    }
   ],
   "source": [
    "file='One 01,Two 02,Three 03,Four 04,Five 05'\n",
    "f=re.findall('\\d+',file)\n",
    "for s in f:\n",
    "    print(s)"
   ]
  },
  {
   "cell_type": "markdown",
   "id": "d8c4cfb5-ac14-43ac-b856-c910106d70b4",
   "metadata": {},
   "source": [
    "**28. Write a Python program to find all words starting with 'a' or 'e' in a\n",
    "given string.**"
   ]
  },
  {
   "cell_type": "code",
   "execution_count": 28,
   "id": "e3a7aa44-3ab6-41ee-b4e5-56fd49daaab0",
   "metadata": {},
   "outputs": [
    {
     "name": "stdout",
     "output_type": "stream",
     "text": [
      "['aashish', 'ashwani', 'anu', 'artika', 'egg', 'aj', 'amesh', 'elephant']\n"
     ]
    }
   ],
   "source": [
    "file='aashish,ashwani,Manu,tumul,kartika,egg,piyush,raj,ramesh,elephant,'\n",
    "f=re.findall('[ae]\\w+',file)\n",
    "print(f)"
   ]
  },
  {
   "cell_type": "markdown",
   "id": "ef778d55-e3cd-4b67-9608-cd9077a3d3b1",
   "metadata": {},
   "source": [
    "**29. Write a Python program to separate and print the numbers and their position of a given string.**"
   ]
  },
  {
   "cell_type": "code",
   "execution_count": 36,
   "id": "63058667-6370-4f0c-add1-a35375224623",
   "metadata": {},
   "outputs": [
    {
     "name": "stdout",
     "output_type": "stream",
     "text": [
      "01 start on 4 end on 6\n",
      "02 start on 12 end on 14\n",
      "03 start on 22 end on 24\n",
      "04 start on 31 end on 33\n",
      "05 start on 40 end on 42\n"
     ]
    }
   ],
   "source": [
    "file='One 01, Two 02, Three 03, Four 04, Five 05'\n",
    "f=re.finditer('\\d+',file)\n",
    "for s in f:\n",
    "    print(s.group(),'start on',s.start(),'end on',s.end())"
   ]
  },
  {
   "cell_type": "markdown",
   "id": "e59478eb-5874-42eb-997c-1ea9849df10e",
   "metadata": {},
   "source": [
    "**30. Write a Python program to abbreviate 'Road' as 'Rd.' in a given string.**"
   ]
  },
  {
   "cell_type": "code",
   "execution_count": 40,
   "id": "820f9de2-546d-4d0a-aa09-1fdca87f4e8a",
   "metadata": {},
   "outputs": [
    {
     "name": "stdout",
     "output_type": "stream",
     "text": [
      "101 noorpur Rd.\n"
     ]
    }
   ],
   "source": [
    "file='101 noorpur Road'\n",
    "f=re.sub('Road$','Rd.',file)\n",
    "print(f)"
   ]
  },
  {
   "cell_type": "markdown",
   "id": "0e0d83b1-bf14-4df1-bb0e-4d6e4a77afef",
   "metadata": {},
   "source": [
    "**31. Write a Python program to replace all occurrences of space, comma, or dot with a colon.**"
   ]
  },
  {
   "cell_type": "code",
   "execution_count": 49,
   "id": "c22334b9-1ade-4215-8269-beee659c29ef",
   "metadata": {},
   "outputs": [
    {
     "name": "stdout",
     "output_type": "stream",
     "text": [
      "This:is:python:java:program:\n"
     ]
    }
   ],
   "source": [
    "file='This is python,java program.'\n",
    "f=re.sub('[ ,.]',':',file)\n",
    "print(f)"
   ]
  },
  {
   "cell_type": "markdown",
   "id": "38bef0b9-297e-4e67-977e-173631365914",
   "metadata": {},
   "source": [
    "**32. Write a Python program to replace maximum 2 occurrences of space, comma, or dot with a colon.**"
   ]
  },
  {
   "cell_type": "code",
   "execution_count": 2,
   "id": "f18c8270-7196-4d17-ae06-57e8cf784fbb",
   "metadata": {},
   "outputs": [
    {
     "name": "stdout",
     "output_type": "stream",
     "text": [
      "This:is:python,java program.\n"
     ]
    }
   ],
   "source": [
    "file='This is python,java program.'\n",
    "f=re.sub('[ ,.]',':',file,2)\n",
    "print(f)"
   ]
  },
  {
   "cell_type": "markdown",
   "id": "38959060-5e5c-4df5-9644-62471a9de6f4",
   "metadata": {},
   "source": [
    "**33. Write a Python program to find all five characters long word in a string.**"
   ]
  },
  {
   "cell_type": "code",
   "execution_count": 16,
   "id": "f1c3dc9f-af53-4416-8879-f0aa1dffe3f5",
   "metadata": {},
   "outputs": [
    {
     "name": "stdout",
     "output_type": "stream",
     "text": [
      "['quick', 'brown', 'jumps']\n"
     ]
    }
   ],
   "source": [
    "file='The quick brown fox jumps over the lazy dog.'\n",
    "f=re.findall('\\w{5}',file)\n",
    "print(f)"
   ]
  },
  {
   "cell_type": "markdown",
   "id": "cc9b3d17-d44e-4cfd-a16d-edcf78e95175",
   "metadata": {},
   "source": [
    "**34. Write a Python program to find all three, four, five characters long words in a string.**"
   ]
  },
  {
   "cell_type": "code",
   "execution_count": 17,
   "id": "59337b54-8f92-419d-b9dd-fe911020b946",
   "metadata": {},
   "outputs": [
    {
     "name": "stdout",
     "output_type": "stream",
     "text": [
      "['The', 'quick', 'brown', 'fox', 'jumps', 'over', 'the', 'lazy', 'dog']\n"
     ]
    }
   ],
   "source": [
    "file='The quick brown fox jumps over the lazy dog.'\n",
    "f=re.findall('\\w{3,5}',file)\n",
    "print(f)"
   ]
  },
  {
   "cell_type": "markdown",
   "id": "9caf5e9c-b766-4c90-b4f1-ff35ce062901",
   "metadata": {},
   "source": [
    "**35. Write a Python program to find all words which are at least 4 characters long in a string.**"
   ]
  },
  {
   "cell_type": "code",
   "execution_count": 19,
   "id": "5aa81313-9097-4121-8eda-47ec9321c0ba",
   "metadata": {},
   "outputs": [
    {
     "name": "stdout",
     "output_type": "stream",
     "text": [
      "['quick', 'brown', 'jumps', 'over', 'lazy']\n"
     ]
    }
   ],
   "source": [
    "file='The quick brown fox jumps over the lazy dog.'\n",
    "f=re.findall('\\w{4,}',file)\n",
    "print(f)"
   ]
  },
  {
   "cell_type": "markdown",
   "id": "19afb164-a46c-4657-9a75-0267c2d9b666",
   "metadata": {},
   "source": [
    "**36. Write a python program to convert camel case string to snake case string.**"
   ]
  },
  {
   "cell_type": "code",
   "execution_count": 40,
   "id": "c11c45c8-98c7-4640-88c3-dd27e280ccef",
   "metadata": {},
   "outputs": [
    {
     "name": "stdout",
     "output_type": "stream",
     "text": [
      "124_python_exercises\n"
     ]
    }
   ],
   "source": [
    "file='124PythonExercises'\n",
    "f=re.sub('(.)([A-Z][a-z]+)', r'\\1_\\2', file)\n",
    "f1=re.sub('([a-z0-9])([A-Z])+',r'\\1_\\2',f).lower()\n",
    "print(f1)"
   ]
  },
  {
   "cell_type": "markdown",
   "id": "0d656596-64d2-4e20-8b8a-7f848996016e",
   "metadata": {},
   "source": [
    "**37. Write a python program to convert snake case string to camel case string.**"
   ]
  },
  {
   "cell_type": "code",
   "execution_count": 4,
   "id": "4359c49d-ee74-451e-832d-64d278eae296",
   "metadata": {},
   "outputs": [
    {
     "name": "stdout",
     "output_type": "stream",
     "text": [
      "124PythonExercises\n"
     ]
    }
   ],
   "source": [
    "file='124_python_exercises'\n",
    "result=''.join(x.capitalize() for x in file.split('_'))\n",
    "print(result)"
   ]
  },
  {
   "cell_type": "markdown",
   "id": "cd5f21b9-54e4-4193-b8a3-3a349a9ecb40",
   "metadata": {},
   "source": [
    "**38. Write a Python program to extract values between quotation marks of a string.**"
   ]
  },
  {
   "cell_type": "code",
   "execution_count": 72,
   "id": "547a5e6f-f993-47a6-abed-d24b4b7ece15",
   "metadata": {},
   "outputs": [
    {
     "name": "stdout",
     "output_type": "stream",
     "text": [
      "['Python', 'PHP', 'Java']\n"
     ]
    }
   ],
   "source": [
    "file='\"Python\", \"PHP\", \"Java\"'\n",
    "f=re.findall(r'\"(.*?)\"',file)\n",
    "print(f)"
   ]
  },
  {
   "cell_type": "markdown",
   "id": "f8d6010f-a8db-482f-8ebe-4d57e5bc8a2c",
   "metadata": {},
   "source": [
    "**39. Write a Python program to remove multiple spaces in a string.**"
   ]
  },
  {
   "cell_type": "code",
   "execution_count": 77,
   "id": "5c489198-e1c2-4b8a-9bf1-4f6e2e2770f8",
   "metadata": {},
   "outputs": [
    {
     "name": "stdout",
     "output_type": "stream",
     "text": [
      "Python Exercises Java\n"
     ]
    }
   ],
   "source": [
    "file='Python         Exercises       Java'\n",
    "f=re.sub(' +',' ',file)\n",
    "print(f)"
   ]
  },
  {
   "cell_type": "markdown",
   "id": "e3a1268f-3c05-4be6-bdc4-00eaf8576755",
   "metadata": {},
   "source": [
    "**40. Write a Python program to remove all whitespaces from a string.**"
   ]
  },
  {
   "cell_type": "code",
   "execution_count": 81,
   "id": "a429a667-b8c5-42b8-a798-126a5836550f",
   "metadata": {},
   "outputs": [
    {
     "name": "stdout",
     "output_type": "stream",
     "text": [
      "Oncethedownloadhasfinished:installApponyourcomputeranditrunonyourPCautomatically.\n"
     ]
    }
   ],
   "source": [
    "file='''Once the download        has finished: install App on your computer\n",
    "        and it run on your PC automatically.'''\n",
    "f=re.sub('[\\s+]','',file)\n",
    "print(f)"
   ]
  },
  {
   "cell_type": "markdown",
   "id": "6bd6aa9c-69ff-4d74-ac69-e903cdc1de73",
   "metadata": {},
   "source": [
    "**41. Write a Python program to remove everything except alphanumeric characters from a string.**"
   ]
  },
  {
   "cell_type": "code",
   "execution_count": 82,
   "id": "db7de22e-fb91-4c47-adee-179947da84eb",
   "metadata": {},
   "outputs": [
    {
     "name": "stdout",
     "output_type": "stream",
     "text": [
      "OncethedownloadhasfinishedinstallApponyourcomputeranditrunonyourPCautomatically\n"
     ]
    }
   ],
   "source": [
    "file='''Once the download has finished: install App on your computer\n",
    "        and it run on your PC automatically.'''\n",
    "f=re.sub('[\\W_]+','',file)\n",
    "print(f)"
   ]
  },
  {
   "cell_type": "markdown",
   "id": "bf0181aa-0580-4c77-85fd-138c034974af",
   "metadata": {},
   "source": [
    "**42. Write a Python program to find urls in a string.**"
   ]
  },
  {
   "cell_type": "code",
   "execution_count": 19,
   "id": "f882583e-bed7-40cf-81cd-da6cb3a793b0",
   "metadata": {},
   "outputs": [
    {
     "name": "stdout",
     "output_type": "stream",
     "text": [
      "['https://www.washington-post+@.com/football^12/wp$/2016/09/02/odell']\n"
     ]
    }
   ],
   "source": [
    "url=\"You can  download the App on the link https://www.washington-post+@.com/football^12/wp$/2016/09/02/odell and it run on your PC.\"\n",
    "f=re.findall('http[s]?://(?:[a-zA-Z]|[0-9]|[$-_@.&+]|[!*\\(\\),]|(?:%[0-9a-fA-F][0-9a-fA-F]))+', url)\n",
    "print(f)"
   ]
  },
  {
   "cell_type": "markdown",
   "id": "f14e0c92-9c6f-4b86-9dee-cb0b091bc38f",
   "metadata": {},
   "source": [
    "**43. Write a Python program to split a string at uppercase letters.**"
   ]
  },
  {
   "cell_type": "code",
   "execution_count": 95,
   "id": "c393c6af-72ce-4dc1-a841-99ccd216c6d5",
   "metadata": {},
   "outputs": [
    {
     "name": "stdout",
     "output_type": "stream",
     "text": [
      "['Python', 'Tutorial', 'And', 'Exercises']\n"
     ]
    }
   ],
   "source": [
    "file='PythonTutorialAndExercises'\n",
    "f=re.findall('[A-Z][^A-Z]*',file)\n",
    "print(f)"
   ]
  },
  {
   "cell_type": "markdown",
   "id": "91d43372-e298-42f6-adb5-ad1443cc8fa3",
   "metadata": {},
   "source": [
    "**44. Write a Python program to do a case-insensitive string replacement.**"
   ]
  },
  {
   "cell_type": "code",
   "execution_count": 6,
   "id": "19652a1c-0492-42d6-a205-fdacdf2a22b6",
   "metadata": {},
   "outputs": [
    {
     "name": "stdout",
     "output_type": "stream",
     "text": [
      "Original Text:  PHP Exercises\n",
      "Using 'php' replace PHP\n",
      "New Text:  PHP Exercises\n"
     ]
    }
   ],
   "source": [
    "file = \"PHP Exercises\"\n",
    "print(\"Original Text: \",file)\n",
    "text = re.sub('php','PHP',file,re.IGNORECASE)\n",
    "print(\"Using 'php' replace PHP\") \n",
    "print(\"New Text: \",text)"
   ]
  },
  {
   "cell_type": "code",
   "execution_count": null,
   "id": "cd0a43ec-e4fd-471a-ac0d-82a96f3b5805",
   "metadata": {},
   "outputs": [],
   "source": []
  }
 ],
 "metadata": {
  "kernelspec": {
   "display_name": "Python 3 (ipykernel)",
   "language": "python",
   "name": "python3"
  },
  "language_info": {
   "codemirror_mode": {
    "name": "ipython",
    "version": 3
   },
   "file_extension": ".py",
   "mimetype": "text/x-python",
   "name": "python",
   "nbconvert_exporter": "python",
   "pygments_lexer": "ipython3",
   "version": "3.9.7"
  }
 },
 "nbformat": 4,
 "nbformat_minor": 5
}
