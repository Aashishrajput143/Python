{
 "cells": [
  {
   "cell_type": "markdown",
   "id": "8864abb7-07a0-4fdc-ab0b-f64b9e5f2dce",
   "metadata": {},
   "source": [
    "**1. Write the function to find that entered number even or odd.**"
   ]
  },
  {
   "cell_type": "code",
   "execution_count": 5,
   "id": "bfb3b39a-4c46-4fba-8ef7-330b243768ea",
   "metadata": {},
   "outputs": [
    {
     "name": "stdin",
     "output_type": "stream",
     "text": [
      "Enter the Number 5\n"
     ]
    },
    {
     "name": "stdout",
     "output_type": "stream",
     "text": [
      "Given number is odd\n"
     ]
    }
   ],
   "source": [
    "def even_odd(n):\n",
    "    if(n%2==0):\n",
    "        print('Given number is even')\n",
    "    else:\n",
    "        print('Given number is odd')\n",
    "v=int(input('Enter the Number'))\n",
    "even_odd(v)"
   ]
  },
  {
   "cell_type": "markdown",
   "id": "6deb5a55-a91a-43fd-9652-c50dfd47d09e",
   "metadata": {},
   "source": [
    "**2. Write the function to print the entered number in reverse order.**"
   ]
  },
  {
   "cell_type": "code",
   "execution_count": 2,
   "id": "7a736dd9-d27a-401b-af3e-dff29ae81bd1",
   "metadata": {},
   "outputs": [
    {
     "name": "stdin",
     "output_type": "stream",
     "text": [
      "enter no. 253\n"
     ]
    },
    {
     "name": "stdout",
     "output_type": "stream",
     "text": [
      "352 2 0\n"
     ]
    }
   ],
   "source": [
    "def reverse(n):\n",
    "    rev=0\n",
    "    while(n>0):\n",
    "        r=n%10\n",
    "        n=n//10\n",
    "        rev=(rev*10)+r\n",
    "    return print(rev,r,n)\n",
    "i=int(input('enter no.'))\n",
    "reverse(i)"
   ]
  },
  {
   "cell_type": "markdown",
   "id": "893e39ae-622d-4b5b-a9e8-dba8aa75ece4",
   "metadata": {},
   "source": [
    "**3. Write the function to find out whether entered number is prime or not.**"
   ]
  },
  {
   "cell_type": "code",
   "execution_count": 11,
   "id": "3fe80d82-b0a8-4ec4-8463-e8f0d58da74f",
   "metadata": {},
   "outputs": [
    {
     "name": "stdin",
     "output_type": "stream",
     "text": [
      "enter no. 5\n"
     ]
    },
    {
     "name": "stdout",
     "output_type": "stream",
     "text": [
      "no. is prime\n"
     ]
    }
   ],
   "source": [
    "def prime(n):\n",
    "    c=0\n",
    "    for i in range(1,n+1):\n",
    "        if n%i==0:\n",
    "            c=c+1\n",
    "    if c==2:\n",
    "        print('no. is prime')\n",
    "    else:\n",
    "        print('not prime')\n",
    "a=int(input('enter no.'))\n",
    "prime(a)"
   ]
  },
  {
   "cell_type": "markdown",
   "id": "b3e37cd5-f2a6-4840-864c-a011f5746a84",
   "metadata": {},
   "source": [
    "**4. Write the function to calculate the factorial of a entered number.**"
   ]
  },
  {
   "cell_type": "code",
   "execution_count": 1,
   "id": "39c238e9-d8b9-4be9-9c9d-95a4a806fb38",
   "metadata": {},
   "outputs": [
    {
     "name": "stdin",
     "output_type": "stream",
     "text": [
      "enter no. 5\n"
     ]
    },
    {
     "name": "stdout",
     "output_type": "stream",
     "text": [
      "120\n"
     ]
    }
   ],
   "source": [
    "def fact(n):\n",
    "    f=1\n",
    "    for i in range(1,n+1):\n",
    "        f=f*i\n",
    "    return print(f)\n",
    "a=int(input('enter no.'))\n",
    "fact(a)"
   ]
  },
  {
   "cell_type": "markdown",
   "id": "fb0e05e0-320d-4a7f-bf0c-fc0ece2f7e3e",
   "metadata": {},
   "source": [
    "**5. Write the function to print the Fibonacci series. The number of terms for Fibonacci series will be entered through keyboard.**"
   ]
  },
  {
   "cell_type": "code",
   "execution_count": 2,
   "id": "51fbd2c2-8c4d-49a6-b0f9-8fd400938f3c",
   "metadata": {},
   "outputs": [
    {
     "name": "stdin",
     "output_type": "stream",
     "text": [
      "enter the no. of terms: 5\n"
     ]
    },
    {
     "name": "stdout",
     "output_type": "stream",
     "text": [
      "0 1 1 2 3 "
     ]
    }
   ],
   "source": [
    "def fib(n):\n",
    "    a,b=0,1\n",
    "    print(a,end=' ')\n",
    "    for i in range(n-1):\n",
    "        a,b=b,a+b\n",
    "        print(a,end=' ')\n",
    "x=int(input('enter the no. of terms:'))\n",
    "fib(x)"
   ]
  },
  {
   "cell_type": "markdown",
   "id": "9f8a71e4-2ca9-4ec4-a8ca-9e2462240457",
   "metadata": {},
   "source": [
    "**6. Write the function to find entered number through keyboard is whether Armstrong \n",
    "or not.**"
   ]
  },
  {
   "cell_type": "code",
   "execution_count": 6,
   "id": "8721108f-5ac2-4869-ac3e-6ed8eacca961",
   "metadata": {},
   "outputs": [
    {
     "name": "stdin",
     "output_type": "stream",
     "text": [
      "enter no. 11\n"
     ]
    },
    {
     "name": "stdout",
     "output_type": "stream",
     "text": [
      "not armstrong\n"
     ]
    }
   ],
   "source": [
    "def arm(n):\n",
    "    s=0\n",
    "    p=n\n",
    "    while(n>0):\n",
    "        r=n%10\n",
    "        n=n//10\n",
    "        s=s+(r**3)\n",
    "    if (p==s):\n",
    "        print('yes armstrong')\n",
    "    else:\n",
    "        print('not armstrong')\n",
    "a=int(input('enter no.'))\n",
    "arm(a)"
   ]
  },
  {
   "cell_type": "markdown",
   "id": "5b49061a-e39b-4a9c-a4cd-99551fe5d4ce",
   "metadata": {},
   "source": [
    "**7. Write a function to find entered number through keyboard is whether palindrome or \n",
    "not.**"
   ]
  },
  {
   "cell_type": "code",
   "execution_count": 7,
   "id": "3e63c265-acfa-4bcf-af2d-b3af4ecb4b57",
   "metadata": {},
   "outputs": [
    {
     "name": "stdin",
     "output_type": "stream",
     "text": [
      "enter no. 25\n"
     ]
    },
    {
     "name": "stdout",
     "output_type": "stream",
     "text": [
      "not palindrome\n"
     ]
    }
   ],
   "source": [
    "def reverse(n):\n",
    "    rev=0\n",
    "    nn=n\n",
    "    while(n>0):\n",
    "        r=n%10\n",
    "        n=n//10\n",
    "        rev=(rev*10)+r\n",
    "    if (rev==nn\n",
    "        ):\n",
    "        print('yes palindrome')\n",
    "    else:\n",
    "        print('not palindrome')\n",
    "i=int(input('enter no.'))\n",
    "reverse(i)"
   ]
  },
  {
   "cell_type": "markdown",
   "id": "871482ff-c3ea-4ff0-b92d-ad6daee32f40",
   "metadata": {},
   "source": [
    "**8. Write a function that takes a number entered through keyboard and find whether it \n",
    "is positive or negative.**"
   ]
  },
  {
   "cell_type": "code",
   "execution_count": 11,
   "id": "8dedfe16-9a53-4326-b5a8-54e83b059783",
   "metadata": {},
   "outputs": [
    {
     "name": "stdin",
     "output_type": "stream",
     "text": [
      "enter no. 2223\n"
     ]
    },
    {
     "name": "stdout",
     "output_type": "stream",
     "text": [
      "positive\n"
     ]
    }
   ],
   "source": [
    "def no(n):\n",
    "    if n>0:\n",
    "        print('positive')\n",
    "    else:\n",
    "        print('negative')\n",
    "    return \n",
    "i=int(input('enter no.'))\n",
    "no(i)"
   ]
  },
  {
   "cell_type": "markdown",
   "id": "cba614db-b278-453f-bddc-6de1654b382e",
   "metadata": {},
   "source": [
    "**9. Write a function that takes a number entered through keyboard and find whether it \n",
    "isArmstrong number or not.**"
   ]
  },
  {
   "cell_type": "code",
   "execution_count": 12,
   "id": "2c905e8c-c4e0-4060-b0e3-d39c27228479",
   "metadata": {},
   "outputs": [
    {
     "name": "stdin",
     "output_type": "stream",
     "text": [
      "enter a number: 22\n"
     ]
    },
    {
     "name": "stdout",
     "output_type": "stream",
     "text": [
      "22 is not armstrong number\n"
     ]
    }
   ],
   "source": [
    "num=int(input(\"enter a number:\"))\n",
    "sum=0\n",
    "temp=num\n",
    "while temp>0:\n",
    "    digit=temp%10\n",
    "    sum+=digit**3\n",
    "    temp//=10\n",
    "if num == sum:\n",
    "    print(num,\"is an armstrong number\")\n",
    "else:\n",
    "    print(num,\"is not armstrong number\")"
   ]
  },
  {
   "cell_type": "markdown",
   "id": "13744616-6eab-49e9-aa93-5b55b747e9ea",
   "metadata": {},
   "source": [
    "**10. Write a function that takes two numbers entered through keyboard and return \n",
    "greatest of them.**"
   ]
  },
  {
   "cell_type": "code",
   "execution_count": 13,
   "id": "7bd49d7c-6661-4da1-b638-c7a0be80d904",
   "metadata": {},
   "outputs": [
    {
     "name": "stdin",
     "output_type": "stream",
     "text": [
      "enter 1st no. 22\n",
      "enter 2nd no. 2\n"
     ]
    },
    {
     "name": "stdout",
     "output_type": "stream",
     "text": [
      "1st is greater\n"
     ]
    }
   ],
   "source": [
    "def greater(a,b):\n",
    "    if(a>b):\n",
    "        print('1st is greater')\n",
    "    else:\n",
    "        print('2nd is greater')\n",
    "i=int(input('enter 1st no.'))\n",
    "j=int(input('enter 2nd no.'))\n",
    "greater(i,j)"
   ]
  },
  {
   "cell_type": "markdown",
   "id": "9cfda5da-d272-4125-9df2-c15e56a4ec80",
   "metadata": {},
   "source": [
    "**11. Write a function that takes numbers entered through keyboard and return the sum \n",
    "of digits of entered numbers.**"
   ]
  },
  {
   "cell_type": "code",
   "execution_count": 14,
   "id": "03a10323-29d1-4354-a979-ce7ef64797e0",
   "metadata": {},
   "outputs": [
    {
     "name": "stdin",
     "output_type": "stream",
     "text": [
      "enter no. 22\n"
     ]
    },
    {
     "name": "stdout",
     "output_type": "stream",
     "text": [
      "4\n"
     ]
    }
   ],
   "source": [
    "def sumofdigits(n):\n",
    "    s=0\n",
    "    while(n>0):\n",
    "        r=n%10\n",
    "        s=s+r\n",
    "        n=n//10\n",
    "    return print(s)\n",
    "a=int(input('enter no.'))\n",
    "sumofdigits(a)"
   ]
  },
  {
   "cell_type": "markdown",
   "id": "f9d6db7c-2e55-41ed-8c57-8c5fb43e7b21",
   "metadata": {},
   "source": [
    "**12. Write a function that takes two numbers a and b, entered through keyboard and \n",
    "return the value of.**"
   ]
  },
  {
   "cell_type": "code",
   "execution_count": 18,
   "id": "b3ddbb8f-39c3-4b20-8ee3-b83a33c55fad",
   "metadata": {},
   "outputs": [
    {
     "name": "stdin",
     "output_type": "stream",
     "text": [
      "enter 1st no. 25\n",
      "enter power 2\n"
     ]
    },
    {
     "name": "stdout",
     "output_type": "stream",
     "text": [
      "625\n"
     ]
    }
   ],
   "source": [
    "def power(a,b):\n",
    "    return print(a**b)\n",
    "x=int(input('enter 1st no.'))\n",
    "y=int(input('enter power'))\n",
    "power(x,y)"
   ]
  },
  {
   "cell_type": "code",
   "execution_count": null,
   "id": "897ac1f0-b172-4d19-8952-e31c144829a2",
   "metadata": {},
   "outputs": [],
   "source": []
  }
 ],
 "metadata": {
  "kernelspec": {
   "display_name": "Python 3 (ipykernel)",
   "language": "python",
   "name": "python3"
  },
  "language_info": {
   "codemirror_mode": {
    "name": "ipython",
    "version": 3
   },
   "file_extension": ".py",
   "mimetype": "text/x-python",
   "name": "python",
   "nbconvert_exporter": "python",
   "pygments_lexer": "ipython3",
   "version": "3.9.7"
  }
 },
 "nbformat": 4,
 "nbformat_minor": 5
}
