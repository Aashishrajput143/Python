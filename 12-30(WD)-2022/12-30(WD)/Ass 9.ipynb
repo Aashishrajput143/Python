{
 "cells": [
  {
   "cell_type": "markdown",
   "id": "218e1fd6-6c78-4049-8671-dab0ffe71574",
   "metadata": {},
   "source": [
    "**1. Write a Python program to read an entire text file.**"
   ]
  },
  {
   "cell_type": "code",
   "execution_count": null,
   "id": "4c324b0e-7ade-4fc9-9d35-faa1d44d4d76",
   "metadata": {},
   "outputs": [],
   "source": [
    "path=input('enter the file path:')\n",
    "file=open(path,\"r\")\n",
    "text=file.read()\n",
    "print(text)\n",
    "file.close()"
   ]
  },
  {
   "cell_type": "markdown",
   "id": "385859f0-1b60-4afb-b40c-452da74240df",
   "metadata": {},
   "source": [
    "**2. Write a Python program to read first n lines of a file.**"
   ]
  },
  {
   "cell_type": "code",
   "execution_count": 25,
   "id": "7b4e810a-8e1a-4302-b44d-2c2283a80025",
   "metadata": {},
   "outputs": [
    {
     "name": "stdin",
     "output_type": "stream",
     "text": [
      "enter the file path: d:/text/msg.txt\n",
      "enter the number of lines 3\n"
     ]
    },
    {
     "name": "stdout",
     "output_type": "stream",
     "text": [
      "python is a simple langauge first released in 1991\n",
      "\n",
      "india is my country\n",
      "\n",
      "bye\n"
     ]
    }
   ],
   "source": [
    "path=input('enter the file path:')\n",
    "num=int(input('enter the number of lines'))\n",
    "file=open(path,\"r\")\n",
    "text=file.readlines()\n",
    "txt=text[0:num]\n",
    "for i in txt:\n",
    "    print(i)\n",
    "file.close()"
   ]
  },
  {
   "cell_type": "markdown",
   "id": "a4d698df-c59b-48e5-8dfe-df5c522b9375",
   "metadata": {},
   "source": [
    "**3. Write a Python program to append text to a file and display the text.** "
   ]
  },
  {
   "cell_type": "code",
   "execution_count": 14,
   "id": "1dcd6786-191b-4a54-b1b0-8bc4f795910e",
   "metadata": {},
   "outputs": [
    {
     "name": "stdin",
     "output_type": "stream",
     "text": [
      "enter the file path: d:/ass.txt\n",
      "enter the text: aashish\n"
     ]
    },
    {
     "name": "stdout",
     "output_type": "stream",
     "text": [
      "this is python\n",
      "aashish\n",
      "\n"
     ]
    }
   ],
   "source": [
    "path=input('enter the file path:')\n",
    "a=input('enter the text:')\n",
    "file=open(path,\"a\")\n",
    "file.write('\\n')\n",
    "file.write(a)\n",
    "file.close()"
   ]
  },
  {
   "cell_type": "markdown",
   "id": "e282feb0-61d8-45cd-a019-6b68c276ee8a",
   "metadata": {},
   "source": [
    "**4. Write a Python program to read last n lines of a file.**"
   ]
  },
  {
   "cell_type": "code",
   "execution_count": 11,
   "id": "7e491cbc-85c6-41ae-b4df-46ff690e3b67",
   "metadata": {},
   "outputs": [
    {
     "name": "stdin",
     "output_type": "stream",
     "text": [
      "enter the file path: d:/text/detail.txt\n",
      "enter the number of lines 11\n"
     ]
    },
    {
     "name": "stdout",
     "output_type": "stream",
     "text": [
      "Student name-Ram chauhan\n",
      "Roll.num-4\n",
      "phone number-9693985565\n",
      "Email-ramchauhan859@gamil.com\n",
      "address-vill-bishanpura \n",
      "\n",
      "Student name-Soniya chauhan\n",
      "Roll.num-5\n",
      "phone number-9119784093\n",
      "Email-Soniyarajput782@gmail.com\n",
      "address-vill-jogipura\n",
      "\n",
      "\n",
      "\n",
      "\n",
      "\n",
      "\n",
      "\n",
      "\n",
      "\n",
      "\n"
     ]
    }
   ],
   "source": [
    "path=input('enter the file path:')\n",
    "num=int(input('enter the number of lines'))\n",
    "file=open(path,\"r\")\n",
    "for i in range(num):\n",
    "    lines=file.readlines()\n",
    "    text=lines[(-num)::1]\n",
    "    print(''.join(text))\n",
    "file.close()"
   ]
  },
  {
   "cell_type": "markdown",
   "id": "a175cfca-ef75-44b1-8f57-556c218c62ff",
   "metadata": {},
   "source": [
    "**5. Write a Python program to read a file line by line and store it into a list.** "
   ]
  },
  {
   "cell_type": "code",
   "execution_count": 1,
   "id": "d07b2d62-ae00-4117-815a-d13bd6d76e9a",
   "metadata": {},
   "outputs": [
    {
     "name": "stdin",
     "output_type": "stream",
     "text": [
      "enter the file path: d:/text/msg.txt\n"
     ]
    },
    {
     "name": "stdout",
     "output_type": "stream",
     "text": [
      "['python is a simple langauge first released in 1991\\n', 'india is my country\\n', 'bye']\n"
     ]
    }
   ],
   "source": [
    "path=input('enter the file path:')\n",
    "file=open(path,\"r\")\n",
    "text=file.read()\n",
    "list=text.split('\\n')\n",
    "print(list)\n",
    "file.close()"
   ]
  },
  {
   "cell_type": "markdown",
   "id": "219719f1-7ca2-424b-9f4b-5c9f9e9818db",
   "metadata": {},
   "source": [
    "**6. Write a Python program to read a file line by line store it into a variable.**"
   ]
  },
  {
   "cell_type": "code",
   "execution_count": 15,
   "id": "506c89c9-8baf-4616-baa3-d447b89ebb80",
   "metadata": {},
   "outputs": [
    {
     "name": "stdin",
     "output_type": "stream",
     "text": [
      "enter the file path: d:/text/msg.txt\n"
     ]
    },
    {
     "name": "stdout",
     "output_type": "stream",
     "text": [
      "python is a simple langauge first released in 1991\n",
      "\n",
      "india is my country\n",
      "\n",
      "bye\n"
     ]
    }
   ],
   "source": [
    "path=input('enter the file path:')\n",
    "file=open(path,\"r\")\n",
    "text=file.readlines()\n",
    "print(text[0::])\n",
    "file.close()"
   ]
  },
  {
   "cell_type": "markdown",
   "id": "ca1fb899-1f36-4dd9-8b16-abc765f81c09",
   "metadata": {},
   "source": [
    "**7. Write a Python program to read a file line by line store it into a list.**"
   ]
  },
  {
   "cell_type": "code",
   "execution_count": 16,
   "id": "6886d627-fffd-4d4c-8158-8184ae22638d",
   "metadata": {},
   "outputs": [
    {
     "name": "stdin",
     "output_type": "stream",
     "text": [
      "enter the file path: d:/text/msg.txt\n"
     ]
    },
    {
     "name": "stdout",
     "output_type": "stream",
     "text": [
      "['python is a simple langauge first released in 1991\\n', 'india is my country\\n', 'bye']\n"
     ]
    }
   ],
   "source": [
    "path=input('enter the file path:')\n",
    "file=open(path,\"r\")\n",
    "text=file.read()\n",
    "list=text.split('\\n')\n",
    "print(list)\n",
    "file.close()"
   ]
  },
  {
   "cell_type": "markdown",
   "id": "27123c68-dcd4-4aa9-bf4b-02df66ae1232",
   "metadata": {},
   "source": [
    "**8. Write a python program to find the longest words of a file.**"
   ]
  },
  {
   "cell_type": "code",
   "execution_count": 10,
   "id": "75f92625-154d-44a2-9a6d-486d84a2de9e",
   "metadata": {},
   "outputs": [
    {
     "name": "stdin",
     "output_type": "stream",
     "text": [
      "enter the file path: d:/text/msg1.txt\n"
     ]
    },
    {
     "name": "stdout",
     "output_type": "stream",
     "text": [
      "banana\n"
     ]
    }
   ],
   "source": [
    "path=input('enter the file path:')\n",
    "file=open(path,\"r\")\n",
    "text=file.read()\n",
    "words=text.split()\n",
    "max_len=max(len(w) for w in words)\n",
    "for word in words:\n",
    "    if(len(word)==max_len):\n",
    "        print(word)\n",
    "file.close()"
   ]
  },
  {
   "cell_type": "markdown",
   "id": "443ff172-1782-4b55-8b98-3cc44cd14cf7",
   "metadata": {},
   "source": [
    "**9. Write a Python program to count the number of lines in a text file.**"
   ]
  },
  {
   "cell_type": "code",
   "execution_count": 15,
   "id": "7656b6cb-c53e-4fd3-a969-f00602ed6ff3",
   "metadata": {},
   "outputs": [
    {
     "name": "stdin",
     "output_type": "stream",
     "text": [
      "enter the file path: d:/text/msg.txt\n"
     ]
    },
    {
     "name": "stdout",
     "output_type": "stream",
     "text": [
      "numbers of lines are: 3\n"
     ]
    }
   ],
   "source": [
    "path=input('enter the file path:')\n",
    "file=open(path,\"r\")\n",
    "text=file.read()\n",
    "words=text.split('\\n')\n",
    "print('numbers of lines are:',len(words))"
   ]
  },
  {
   "cell_type": "markdown",
   "id": "c7445a97-264f-4e83-a26f-dae4382d5894",
   "metadata": {},
   "source": [
    "**10. Write a Python program to count the frequency of words in a file.**"
   ]
  },
  {
   "cell_type": "code",
   "execution_count": 14,
   "id": "ec4dc4ff-554a-4868-bd3a-b6bd6d64346d",
   "metadata": {},
   "outputs": [
    {
     "name": "stdin",
     "output_type": "stream",
     "text": [
      "enter the file path: d:/text/msg.txt\n"
     ]
    },
    {
     "name": "stdout",
     "output_type": "stream",
     "text": [
      "numbers of words are: 14\n"
     ]
    }
   ],
   "source": [
    "path=input('enter the file path:')\n",
    "file=open(path,\"r\")\n",
    "text=file.read()\n",
    "words=text.split()\n",
    "print('numbers of words are:',len(words))"
   ]
  },
  {
   "cell_type": "markdown",
   "id": "12e27f71-405c-4067-b86e-37bb95a785eb",
   "metadata": {},
   "source": [
    "**11. Write a Python program to get the file size of a plain file.**"
   ]
  },
  {
   "cell_type": "code",
   "execution_count": null,
   "id": "31d64131-6e8b-4dcf-b8d9-77a59cf87382",
   "metadata": {},
   "outputs": [
    {
     "name": "stdin",
     "output_type": "stream",
     "text": [
      "enter the file path: d:/text/msg.txt\n"
     ]
    },
    {
     "name": "stdout",
     "output_type": "stream",
     "text": [
      "the size of file: 76  Bytes\n"
     ]
    }
   ],
   "source": [
    "import os\n",
    "path=input('enter the file path:')\n",
    "size=os.path.getsize(path)\n",
    "print(str(size) + ' Bytes')"
   ]
  },
  {
   "cell_type": "markdown",
   "id": "98ae7932-df7c-4b7b-bc88-a7ac7dbb5bd7",
   "metadata": {},
   "source": [
    "**12. Write a Python program to write a list to a file.**"
   ]
  },
  {
   "cell_type": "code",
   "execution_count": 3,
   "id": "9c5f2989-af59-49cb-a967-f97a0287e742",
   "metadata": {},
   "outputs": [
    {
     "name": "stdin",
     "output_type": "stream",
     "text": [
      "enter the file path: d:/color.txt\n"
     ]
    },
    {
     "name": "stdout",
     "output_type": "stream",
     "text": [
      "created successfully\n"
     ]
    }
   ],
   "source": [
    "color = ['Red', 'Green', 'White', 'Black', 'Pink', 'Yellow']\n",
    "path=input('enter the file path:')\n",
    "file=open(path,\"w\")\n",
    "for c in color:\n",
    "    file.write(c)\n",
    "    file.write('\\n')\n",
    "print('\\nfile created successfully')\n",
    "file.close()"
   ]
  },
  {
   "cell_type": "markdown",
   "id": "21c4aefa-e01a-4a7f-be82-c8e78138ea56",
   "metadata": {},
   "source": [
    "**13. Write a Python program to copy the contents of a file to another file.** "
   ]
  },
  {
   "cell_type": "code",
   "execution_count": 7,
   "id": "bfd1af91-f509-467a-a1e0-c2917019b71f",
   "metadata": {},
   "outputs": [
    {
     "name": "stdin",
     "output_type": "stream",
     "text": [
      "Enter the Name of Source File:  d:/color.txt\n",
      "Enter the Name of Target File:  d:/color1.txt\n"
     ]
    },
    {
     "name": "stdout",
     "output_type": "stream",
     "text": [
      "\n",
      "file Copied Successfully!\n"
     ]
    }
   ],
   "source": [
    "sfile=input(\"Enter the Name of Source File: \")\n",
    "tfile=input(\"Enter the Name of Target File: \")\n",
    "file=open(sfile,'r')\n",
    "texts = file.readlines()\n",
    "file2 = open(tfile, \"a\")\n",
    "for s in texts:\n",
    "    file2.write(s)\n",
    "file.close()\n",
    "file2.close()\n",
    "print(\"\\nfile Copied Successfully!\")"
   ]
  },
  {
   "cell_type": "markdown",
   "id": "67fe0e74-d146-4016-8ed3-43e373681ed9",
   "metadata": {},
   "source": [
    "**14. Write a Python program to combine each line from first file with the corresponding line in second file.** "
   ]
  },
  {
   "cell_type": "code",
   "execution_count": 13,
   "id": "c213699e-af50-4573-a7e5-3676e1d0c1b2",
   "metadata": {},
   "outputs": [
    {
     "name": "stdin",
     "output_type": "stream",
     "text": [
      "Enter the Name of 1st File:  d:/text/msg.txt\n",
      "Enter the Name of 2nd File:  d:/text/msg1.txt\n"
     ]
    },
    {
     "name": "stdout",
     "output_type": "stream",
     "text": [
      "python is a simple langauge first released in 1991 apple\n",
      "india is my country mango\n",
      "bye banana\n"
     ]
    }
   ],
   "source": [
    "path1=input(\"Enter the Name of 1st File: \")\n",
    "path2=input(\"Enter the Name of 2nd File: \")\n",
    "file1=open(path1,'r')\n",
    "file2=open(path2,'r')\n",
    "for l1,l2 in zip(file1,file2):\n",
    "    #print(l1+l2)\n",
    "    l1=l1.strip()\n",
    "    l2=l2.strip()\n",
    "    print(l1+' '+l2)"
   ]
  },
  {
   "cell_type": "markdown",
   "id": "c63574ef-71b2-477c-a36b-a32417812f4e",
   "metadata": {},
   "source": [
    "**15. Write a Python program to read a random line from a file.**"
   ]
  },
  {
   "cell_type": "code",
   "execution_count": 17,
   "id": "dd4ae38c-1f48-406b-96ea-40eba0ee8fe0",
   "metadata": {},
   "outputs": [
    {
     "name": "stdin",
     "output_type": "stream",
     "text": [
      "enter the file path: d:/text/detail.txt\n"
     ]
    },
    {
     "name": "stdout",
     "output_type": "stream",
     "text": [
      "Email-Soniyarajput782@gmail.com\n"
     ]
    }
   ],
   "source": [
    "import random\n",
    "path=input('enter the file path:')\n",
    "file=open(path,\"r\")\n",
    "read=file.read()\n",
    "lines=read.splitlines()\n",
    "random=random.choice(lines)\n",
    "print(random)\n",
    "file.close()"
   ]
  },
  {
   "cell_type": "markdown",
   "id": "2f647a44-e2ef-40bb-bc0d-dbd49235e9d5",
   "metadata": {},
   "source": [
    "**16. Write a Python program to assess if a file is closed or not.**"
   ]
  },
  {
   "cell_type": "code",
   "execution_count": 27,
   "id": "7846dd51-23d7-41b0-8d52-b9d7eafc7907",
   "metadata": {},
   "outputs": [
    {
     "name": "stdin",
     "output_type": "stream",
     "text": [
      "enter the file path: d:/text/msg.txt\n"
     ]
    },
    {
     "name": "stdout",
     "output_type": "stream",
     "text": [
      "file is closed\n"
     ]
    }
   ],
   "source": [
    "path=input('enter the file path:')\n",
    "file=open(path,\"r\")\n",
    "file.close()\n",
    "if file.closed:\n",
    "    print (\"file is closed\")\n",
    "else:\n",
    "    print(\"file is open\")"
   ]
  },
  {
   "cell_type": "markdown",
   "id": "214ccece-35cc-429d-96e7-178146509b2b",
   "metadata": {},
   "source": [
    "**17. Write a Python program to remove newline characters from a file.**"
   ]
  },
  {
   "cell_type": "code",
   "execution_count": 28,
   "id": "48dfa020-2ee9-45d3-b2c8-693cf072da2e",
   "metadata": {},
   "outputs": [
    {
     "name": "stdin",
     "output_type": "stream",
     "text": [
      "enter the file path: d:/text/msg.txt\n"
     ]
    },
    {
     "name": "stdout",
     "output_type": "stream",
     "text": [
      "['python is a simple langauge first released in 1991\\n', 'india is my country\\n', 'bye']\n"
     ]
    }
   ],
   "source": [
    "path=input('enter the file path:')\n",
    "file=open(path,\"r\").readlines()\n",
    "for l in file:\n",
    "    l.rstrip('\\n')\n",
    "print(file)"
   ]
  },
  {
   "cell_type": "markdown",
   "id": "11efb89d-5200-4edc-8fc1-81350e2a62bc",
   "metadata": {},
   "source": [
    "**18. Write a Python program that takes a text file as input and returns the number of words of a given text file.**"
   ]
  },
  {
   "cell_type": "code",
   "execution_count": 29,
   "id": "077ff632-5966-45c8-bbec-24f3f85453d7",
   "metadata": {},
   "outputs": [
    {
     "name": "stdin",
     "output_type": "stream",
     "text": [
      "enter the file path: d:/text/msg.txt\n"
     ]
    },
    {
     "name": "stdout",
     "output_type": "stream",
     "text": [
      "python is a simple langauge first released in 1991\n",
      "india is my country\n",
      "bye\n",
      "['python', 'is', 'a', 'simple', 'langauge', 'first', 'released', 'in', '1991\\nindia', 'is', 'my', 'country\\nbye']\n",
      "no.of words: 12\n"
     ]
    }
   ],
   "source": [
    "path=input('enter the file path:')\n",
    "file=open(path,\"r\")\n",
    "text=file.read()\n",
    "s=text.replace(\",\", \" \")\n",
    "print(s)\n",
    "words=s.split(\" \")\n",
    "print(words)\n",
    "print(\"no.of words:\",len(words))"
   ]
  },
  {
   "cell_type": "markdown",
   "id": "3bb0fa01-ff8a-4c23-be05-429181a00b28",
   "metadata": {},
   "source": [
    "**19. Write a Python program to extract characters from various text files and puts them into a list.**"
   ]
  },
  {
   "cell_type": "code",
   "execution_count": 31,
   "id": "ae0ea599-ca89-429a-8d54-7eb10bacf64c",
   "metadata": {},
   "outputs": [
    {
     "name": "stdin",
     "output_type": "stream",
     "text": [
      "enter the path of 1st file: d:/text/detail.txt\n",
      "enter the path of 2nd file: d:/text/msg2.txt\n"
     ]
    }
   ],
   "source": [
    "path1=input('enter the path of 1st file:')\n",
    "path2=input('enter the path of 2nd file:')\n",
    "file1=open(path1,\"r\")\n",
    "text1=file1.read()\n",
    "file2=open(path2,\"r\")\n",
    "text2=file2.read()\n",
    "l=list()\n",
    "s=\"!@#$%^&*()_\"\n",
    "for i in s:\n",
    "    if i in text1:\n",
    "        l.append(i)\n",
    "for j in s: \n",
    "    if j in text2:\n",
    "        l.append(j)\n",
    "file1.close()\n",
    "file2.close()"
   ]
  },
  {
   "cell_type": "markdown",
   "id": "afef09b7-9742-4e55-869c-b39d525b5371",
   "metadata": {},
   "source": [
    "**20. Write a Python program to generate 26 text files named A.txt, B.txt, and so on up to Z.txt.**"
   ]
  },
  {
   "cell_type": "code",
   "execution_count": 32,
   "id": "c9fd8695-ed2f-4ea5-98e7-c38328e28251",
   "metadata": {},
   "outputs": [],
   "source": [
    "file='ABCDEFGHIJKLMNOPQRSTUVWXYZ'\n",
    "for i in file:\n",
    "    file1=open('d:/text/'+i+'.txt','w')\n",
    "file1.close()"
   ]
  },
  {
   "cell_type": "markdown",
   "id": "8a9f56ae-b012-4d29-8039-791538a730be",
   "metadata": {},
   "source": [
    "**21. Write a Python program to create a file where all letters of English alphabet are listed by specified number of letters on each line.**"
   ]
  },
  {
   "cell_type": "code",
   "execution_count": 33,
   "id": "794f8ea6-7c1b-4a4f-9ec8-9ff2289a4384",
   "metadata": {},
   "outputs": [
    {
     "name": "stdin",
     "output_type": "stream",
     "text": [
      "enter the path of file: d:/msg.txt\n",
      "enter the string: python\n"
     ]
    }
   ],
   "source": [
    "path1=input('enter the path of file:')\n",
    "path2=input('enter the string:')\n",
    "msg=path2\n",
    "l=list(msg)\n",
    "s=\"\\n\".join(l)\n",
    "file=open(path1,\"w\")\n",
    "file.write(s)\n",
    "file.close()\n"
   ]
  },
  {
   "cell_type": "code",
   "execution_count": null,
   "id": "03080989-f525-436e-a36e-0f9df902f6ab",
   "metadata": {},
   "outputs": [],
   "source": []
  }
 ],
 "metadata": {
  "kernelspec": {
   "display_name": "Python 3 (ipykernel)",
   "language": "python",
   "name": "python3"
  },
  "language_info": {
   "codemirror_mode": {
    "name": "ipython",
    "version": 3
   },
   "file_extension": ".py",
   "mimetype": "text/x-python",
   "name": "python",
   "nbconvert_exporter": "python",
   "pygments_lexer": "ipython3",
   "version": "3.9.7"
  }
 },
 "nbformat": 4,
 "nbformat_minor": 5
}
