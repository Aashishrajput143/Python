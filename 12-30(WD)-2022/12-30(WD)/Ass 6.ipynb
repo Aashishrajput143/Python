{
 "cells": [
  {
   "cell_type": "markdown",
   "id": "16f6520a-6357-4807-82c8-51fc234ff279",
   "metadata": {},
   "source": [
    "**1. Write a Python program to create a set.**"
   ]
  },
  {
   "cell_type": "code",
   "execution_count": 1,
   "id": "fa10d93b-017a-47be-b19f-ae9d8f17da03",
   "metadata": {},
   "outputs": [
    {
     "name": "stdout",
     "output_type": "stream",
     "text": [
      "<class 'set'>\n"
     ]
    }
   ],
   "source": [
    "s={1,2,3,4,5,'acc','num'}\n",
    "print(type(s))"
   ]
  },
  {
   "cell_type": "markdown",
   "id": "ccaf32a6-94e7-471f-aa7d-891051db4335",
   "metadata": {},
   "source": [
    "**2. Write a Python program to iteration over sets.**"
   ]
  },
  {
   "cell_type": "code",
   "execution_count": 1,
   "id": "9479497b-fd0d-4098-8f51-0c9219f1573b",
   "metadata": {},
   "outputs": [
    {
     "name": "stdout",
     "output_type": "stream",
     "text": [
      "n t h o y p "
     ]
    }
   ],
   "source": [
    "s=set('python')\n",
    "for i in s:\n",
    "    print(i ,end=' ')"
   ]
  },
  {
   "cell_type": "markdown",
   "id": "911f8977-762d-4954-915d-976c5750b73e",
   "metadata": {},
   "source": [
    "**3. Write a Python program to add member(s) in a set.**"
   ]
  },
  {
   "cell_type": "code",
   "execution_count": 7,
   "id": "905a41ed-a829-487e-90db-883fc7063b88",
   "metadata": {},
   "outputs": [
    {
     "name": "stdout",
     "output_type": "stream",
     "text": [
      "{'21'}\n",
      "{'Red', '33', '21', 'hello'}\n"
     ]
    }
   ],
   "source": [
    "s=set()\n",
    "s.add('21')\n",
    "print(s)\n",
    "s.update(['hello','33','Red'])\n",
    "print(s)"
   ]
  },
  {
   "cell_type": "markdown",
   "id": "4a463ae5-d52a-45ff-8da2-7462783ef364",
   "metadata": {},
   "source": [
    "**4. Write a Python program to remove item(s) from set.**"
   ]
  },
  {
   "cell_type": "code",
   "execution_count": 15,
   "id": "bc78e81f-e830-4d3f-961b-22791d2e5011",
   "metadata": {},
   "outputs": [
    {
     "name": "stdout",
     "output_type": "stream",
     "text": [
      "{'Hello', 'Hi'}\n"
     ]
    }
   ],
   "source": [
    "s=set(['Hello','Hi','202'])\n",
    "s.pop()\n",
    "print(s)"
   ]
  },
  {
   "cell_type": "markdown",
   "id": "b6f7c9a0-c170-4887-9c9b-f95c66ba8af3",
   "metadata": {},
   "source": [
    "**5. Write a Python program to remove an item from a set if it is present in the set.**"
   ]
  },
  {
   "cell_type": "code",
   "execution_count": 18,
   "id": "4a73342a-65ed-430f-afe6-5f55cb0d5cca",
   "metadata": {},
   "outputs": [
    {
     "name": "stdout",
     "output_type": "stream",
     "text": [
      "{'202', 'Hello'}\n",
      "{'202', 'Hello'}\n",
      "{'Hello'}\n"
     ]
    }
   ],
   "source": [
    "s=set(['Hello','Hi','202'])\n",
    "s.discard('Hi')\n",
    "print(s)\n",
    "s.discard('Hiii')\n",
    "print(s)\n",
    "s.discard('202')\n",
    "print(s)"
   ]
  },
  {
   "cell_type": "markdown",
   "id": "3b9d0154-960b-46fd-97fa-9bb30d8dca32",
   "metadata": {},
   "source": [
    "**6. Write a Python program to create an intersection of sets.**"
   ]
  },
  {
   "cell_type": "code",
   "execution_count": 19,
   "id": "4dc40db5-e0a6-4a10-93b0-0f0e0eb3213a",
   "metadata": {},
   "outputs": [
    {
     "name": "stdout",
     "output_type": "stream",
     "text": [
      "{'Green'}\n"
     ]
    }
   ],
   "source": [
    "s=set(['Red','Green'])\n",
    "x=set(['Green','Blue'])\n",
    "res=s&x\n",
    "print(res)"
   ]
  },
  {
   "cell_type": "markdown",
   "id": "ab1631d9-43d7-4ed5-8c5d-bdbd4beffe83",
   "metadata": {},
   "source": [
    "**7. Write a Python program to create a union of sets.**"
   ]
  },
  {
   "cell_type": "code",
   "execution_count": 21,
   "id": "b9849547-fff4-4c8e-90bf-1e1a24a10d87",
   "metadata": {},
   "outputs": [
    {
     "name": "stdout",
     "output_type": "stream",
     "text": [
      "{'Red', 'Green', 'Blue'}\n"
     ]
    }
   ],
   "source": [
    "s=set(['Red','Green'])\n",
    "x=set(['Green','Blue'])\n",
    "res=x.union(s)\n",
    "print(res)"
   ]
  },
  {
   "cell_type": "markdown",
   "id": "1cbfe345-6263-4b92-b437-6009a65d4c68",
   "metadata": {},
   "source": [
    "**8. Write a Python program to create set difference.**"
   ]
  },
  {
   "cell_type": "code",
   "execution_count": 22,
   "id": "903783e9-d781-4dfb-8b2c-e6103503ebe1",
   "metadata": {},
   "outputs": [
    {
     "name": "stdout",
     "output_type": "stream",
     "text": [
      "{'Blue'}\n",
      "{'Red'}\n"
     ]
    }
   ],
   "source": [
    "s=set(['Red','Green'])\n",
    "x=set(['Green','Blue'])\n",
    "res1=x.difference(s)\n",
    "print(res1)\n",
    "res2=s.difference(x)\n",
    "print(res2)"
   ]
  },
  {
   "cell_type": "markdown",
   "id": "1db7d15b-5c8d-4c14-a977-572f96e2e2fc",
   "metadata": {},
   "source": [
    "**9. Write a Python program to create a symmetric difference.**"
   ]
  },
  {
   "cell_type": "code",
   "execution_count": 24,
   "id": "468797ac-1bc7-4d0b-b14c-9f56fc88b461",
   "metadata": {},
   "outputs": [
    {
     "name": "stdout",
     "output_type": "stream",
     "text": [
      "{'Red', 'Blue'}\n",
      "{'Red', 'Blue'}\n"
     ]
    }
   ],
   "source": [
    "s=set(['Red','Green'])\n",
    "x=set(['Green','Blue'])\n",
    "res1=x.symmetric_difference(s)\n",
    "print(res1)\n",
    "res2=s.symmetric_difference(x)\n",
    "print(res2)"
   ]
  },
  {
   "cell_type": "markdown",
   "id": "7537bf88-8a89-425a-b896-cbb86dbdefe5",
   "metadata": {},
   "source": [
    "**10. Write a Python program to create a shallow copy of sets.**"
   ]
  },
  {
   "cell_type": "code",
   "execution_count": 29,
   "id": "db550116-bf78-4f38-9963-53ca35313037",
   "metadata": {},
   "outputs": [
    {
     "name": "stdout",
     "output_type": "stream",
     "text": [
      "{'Red', 'Green'}\n"
     ]
    }
   ],
   "source": [
    "s =set(['Red', 'Green'])\n",
    "q =set(['Green', 'Red'])\n",
    "r=s.copy()\n",
    "print(r)"
   ]
  },
  {
   "cell_type": "markdown",
   "id": "029ca3a7-2cf7-409a-9971-9f5c13711d1f",
   "metadata": {},
   "source": [
    "**11. Write a Python program to clear a set.**"
   ]
  },
  {
   "cell_type": "code",
   "execution_count": 31,
   "id": "ae320645-62d1-4803-8b4f-ec2b11a3d4a7",
   "metadata": {},
   "outputs": [
    {
     "name": "stdout",
     "output_type": "stream",
     "text": [
      "set()\n"
     ]
    }
   ],
   "source": [
    "s =set(['Red', 'Green','Blue'])\n",
    "s.clear()\n",
    "print(s)"
   ]
  },
  {
   "cell_type": "markdown",
   "id": "d27b605c-30ba-4e95-aff3-ec7517987de3",
   "metadata": {},
   "source": [
    "**12. Write a Python program to use of frozenset.**"
   ]
  },
  {
   "cell_type": "code",
   "execution_count": 37,
   "id": "b199e118-29ad-44ec-b523-a404edff8ac6",
   "metadata": {},
   "outputs": [
    {
     "name": "stdout",
     "output_type": "stream",
     "text": [
      "Return True if the set has no elements in common with other. False\n",
      "Return a new set with elements in the set that are not in the others(y). frozenset({1, 2})\n",
      "Return a new set with elements in the set that are not in the others(x). frozenset({6, 7})\n",
      "new set with elements from both x and y frozenset({1, 2, 3, 4, 5, 6, 7})\n"
     ]
    }
   ],
   "source": [
    "x = frozenset([1, 2, 3, 4, 5])\n",
    "y = frozenset([3, 4, 5, 6, 7])\n",
    "print('Return True if the set has no elements in common with other.',x.isdisjoint(y))\n",
    "print('Return a new set with elements in the set that are not in the others(y).',x.difference(y))\n",
    "print('Return a new set with elements in the set that are not in the others(x).',y.difference(x))\n",
    "print('new set with elements from both x and y',x|y)"
   ]
  },
  {
   "cell_type": "markdown",
   "id": "d97435b6-4fd0-404b-a0c0-72af956af9ec",
   "metadata": {},
   "source": [
    "**13. Write a Python program to find maximum and the minimum value in a set.**"
   ]
  },
  {
   "cell_type": "code",
   "execution_count": 40,
   "id": "072771bf-a189-4281-9f78-e49ec8e19f31",
   "metadata": {},
   "outputs": [
    {
     "name": "stdout",
     "output_type": "stream",
     "text": [
      "maximum 20\n",
      "minimum 2\n"
     ]
    }
   ],
   "source": [
    "s={5,10,3,15,2,20}\n",
    "print('maximum',max(s))\n",
    "print('minimum',min(s))"
   ]
  },
  {
   "cell_type": "markdown",
   "id": "3325a37c-79e6-42b8-830f-cf76ef12da20",
   "metadata": {},
   "source": [
    "**14. Write a Python program to find the length of a set.**"
   ]
  },
  {
   "cell_type": "code",
   "execution_count": 42,
   "id": "0357d46b-3152-4aee-9b5c-1bc63f86098f",
   "metadata": {},
   "outputs": [
    {
     "name": "stdout",
     "output_type": "stream",
     "text": [
      "Length 6\n"
     ]
    }
   ],
   "source": [
    "s={5,10,3,15,2,20}\n",
    "print('Length',len(s))"
   ]
  },
  {
   "cell_type": "code",
   "execution_count": null,
   "id": "7030eb6b-d8bd-4f7a-a52a-4ee03e099dea",
   "metadata": {},
   "outputs": [],
   "source": []
  }
 ],
 "metadata": {
  "kernelspec": {
   "display_name": "Python 3 (ipykernel)",
   "language": "python",
   "name": "python3"
  },
  "language_info": {
   "codemirror_mode": {
    "name": "ipython",
    "version": 3
   },
   "file_extension": ".py",
   "mimetype": "text/x-python",
   "name": "python",
   "nbconvert_exporter": "python",
   "pygments_lexer": "ipython3",
   "version": "3.9.7"
  }
 },
 "nbformat": 4,
 "nbformat_minor": 5
}
