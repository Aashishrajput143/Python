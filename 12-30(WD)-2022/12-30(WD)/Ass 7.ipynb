{
 "cells": [
  {
   "cell_type": "markdown",
   "id": "86546e09-9534-4856-aebe-fd920b182e52",
   "metadata": {},
   "source": [
    "**1. Write a Python script to sort (ascending and descending) a dictionary by key.** "
   ]
  },
  {
   "cell_type": "code",
   "execution_count": 8,
   "id": "757573f2-2cd3-43aa-ad0d-cf17192a1ca8",
   "metadata": {},
   "outputs": [
    {
     "name": "stdout",
     "output_type": "stream",
     "text": [
      "Ascending order of a dictionary [('101', '201'), ('102', '202'), ('103', '203')]\n",
      "Descending order of a dictionary [('103', '203'), ('102', '202'), ('101', '201')]\n"
     ]
    }
   ],
   "source": [
    "import operator\n",
    "d={'101':'201','102':'202','103':'203'}\n",
    "s1=sorted(d.items(),key=operator.itemgetter(0))\n",
    "s2=sorted(d.items(),key=operator.itemgetter(0),reverse=True)\n",
    "print('Ascending order of a dictionary',s1)\n",
    "print('Descending order of a dictionary',s2)"
   ]
  },
  {
   "cell_type": "markdown",
   "id": "18feaef2-9d39-4f14-9f55-3d08cc8f8660",
   "metadata": {},
   "source": [
    "**2. Write a Python script to add an item to a dictionary.**"
   ]
  },
  {
   "cell_type": "code",
   "execution_count": 12,
   "id": "0e7db8fb-4d05-4eed-abb4-676eccd60613",
   "metadata": {},
   "outputs": [
    {
     "name": "stdin",
     "output_type": "stream",
     "text": [
      "Enter the number of items: 2\n",
      "Enter key: 101\n",
      "Enter value: sonu\n",
      "Enter key: 102\n",
      "Enter value: monu\n"
     ]
    },
    {
     "name": "stdout",
     "output_type": "stream",
     "text": [
      "{'101': 'sonu', '102': 'monu'}\n"
     ]
    }
   ],
   "source": [
    "d={}\n",
    "l=int(input('Enter the number of items:'))\n",
    "for i in range(l):\n",
    "        k=input('Enter key:')\n",
    "        v=input('Enter value:')\n",
    "        d[k]=v\n",
    "print(d)"
   ]
  },
  {
   "cell_type": "markdown",
   "id": "715302b4-0162-446b-900c-ec949beb8a62",
   "metadata": {},
   "source": [
    "**3. Write a Python script to concatenate following dictionaries to create a new one.**"
   ]
  },
  {
   "cell_type": "code",
   "execution_count": 9,
   "id": "d7e64605-2025-4f8b-8dfc-097968363996",
   "metadata": {},
   "outputs": [
    {
     "name": "stdout",
     "output_type": "stream",
     "text": [
      "{'101': 'Monu', '102': 'sonu', '103': 'chintu', '201': 'aashish', '202': 'kartik', '203': 'nona', '301': 'piyush', '302': 'sintu', '303': 'ayush'}\n"
     ]
    }
   ],
   "source": [
    "d={'101':'Monu','102':'sonu','103':'chintu'}\n",
    "e={'201':'aashish','202':'kartik','203':'nona'}\n",
    "f={'301':'piyush','302':'sintu','303':'ayush'}\n",
    "g={}\n",
    "for i in (d,e,f):\n",
    "    g.update(i)\n",
    "print(g)"
   ]
  },
  {
   "cell_type": "markdown",
   "id": "99737c3b-775b-4348-b5ce-29a348b6d65a",
   "metadata": {},
   "source": [
    "**4. Write a Python script to check if a given key already exists in a dictionary.** "
   ]
  },
  {
   "cell_type": "code",
   "execution_count": null,
   "id": "57a482f8-f658-403b-a37a-0c43608dc343",
   "metadata": {},
   "outputs": [
    {
     "name": "stdin",
     "output_type": "stream",
     "text": [
      "Enter the key: 101\n"
     ]
    },
    {
     "name": "stdout",
     "output_type": "stream",
     "text": [
      "key already exists\n"
     ]
    }
   ],
   "source": [
    "d={'101':'Monu','102':'sonu','103':'chintu'}\n",
    "dic=input('Enter the key:')\n",
    "if dic in d:\n",
    "    print('key already exists')\n",
    "else:\n",
    "    print('key not exists')"
   ]
  },
  {
   "cell_type": "markdown",
   "id": "d0b71c90-d19a-4745-84de-d3ad0018b83b",
   "metadata": {},
   "source": [
    "**5. Write a Python program to iterate over dictionaries using for loops.**"
   ]
  },
  {
   "cell_type": "code",
   "execution_count": 15,
   "id": "8a37f460-1819-4de6-915e-7aa8c4a21931",
   "metadata": {},
   "outputs": [
    {
     "name": "stdout",
     "output_type": "stream",
     "text": [
      "101 Monu\n",
      "102 sonu\n",
      "103 chintu\n"
     ]
    }
   ],
   "source": [
    "d={'101':'Monu','102':'sonu','103':'chintu'}\n",
    "for key,value in d.items():\n",
    "    print(key,value)"
   ]
  },
  {
   "cell_type": "markdown",
   "id": "a640579c-28f9-45a1-93d5-8268ad2b50bc",
   "metadata": {},
   "source": [
    "**6. Write a Python script to generate and print a dictionary that contains a number (between 1 and n) in the form (x, x*x).**"
   ]
  },
  {
   "cell_type": "code",
   "execution_count": 16,
   "id": "5e4571f6-6808-4c8d-8691-cf5e8cb065cb",
   "metadata": {},
   "outputs": [
    {
     "name": "stdin",
     "output_type": "stream",
     "text": [
      "Enter the num: 10\n"
     ]
    },
    {
     "name": "stdout",
     "output_type": "stream",
     "text": [
      "{1: 1, 2: 4, 3: 9, 4: 16, 5: 25, 6: 36, 7: 49, 8: 64, 9: 81, 10: 100}\n"
     ]
    }
   ],
   "source": [
    "n=int(input('Enter the num:')) \n",
    "d={x:x*x for x in range(1,n+1)}\n",
    "print(d)"
   ]
  },
  {
   "cell_type": "markdown",
   "id": "5a6c0c46-bec0-4ec3-8372-a9aef9cac8af",
   "metadata": {},
   "source": [
    "**7. Write a Python script to print a dictionary where the keys are numbers between 1 and 15 (both included) and the values are square of keys.** "
   ]
  },
  {
   "cell_type": "code",
   "execution_count": 30,
   "id": "0480e806-241a-4431-a7a9-e8ae972fbb84",
   "metadata": {},
   "outputs": [
    {
     "name": "stdout",
     "output_type": "stream",
     "text": [
      "{1: 1, 2: 4, 3: 9, 4: 16, 5: 25, 6: 36, 7: 49, 8: 64, 9: 81, 10: 100, 11: 121, 12: 144, 13: 169, 14: 196, 15: 225}\n"
     ]
    }
   ],
   "source": [
    "d={x:x*x for x in range(1,16)}\n",
    "print(d)"
   ]
  },
  {
   "cell_type": "markdown",
   "id": "7cd1a91f-4069-4ff7-8c25-d0685bd719b2",
   "metadata": {},
   "source": [
    "**8. Write a Python script to merge two Python dictionaries.**"
   ]
  },
  {
   "cell_type": "code",
   "execution_count": 17,
   "id": "8c15733c-6e16-4291-ac96-3670ceadaf23",
   "metadata": {},
   "outputs": [
    {
     "name": "stdout",
     "output_type": "stream",
     "text": [
      "{'101': 'Monu', '102': 'sonu', '103': 'chintu', '201': 'aashish', '202': 'kartik', '203': 'nona'}\n"
     ]
    }
   ],
   "source": [
    "d={'101':'Monu','102':'sonu','103':'chintu'}\n",
    "e={'201':'aashish','202':'kartik','203':'nona'}\n",
    "d.update(e)\n",
    "print(d)"
   ]
  },
  {
   "cell_type": "markdown",
   "id": "f766cc8a-3a55-428b-9ab3-7a9ad4e483b9",
   "metadata": {},
   "source": [
    "**9. Write a Python program to iterate over dictionaries using for loops.** "
   ]
  },
  {
   "cell_type": "code",
   "execution_count": 18,
   "id": "d8240774-ccee-4d2e-b3d7-618e34b6befc",
   "metadata": {},
   "outputs": [
    {
     "name": "stdout",
     "output_type": "stream",
     "text": [
      "101 Monu\n",
      "102 sonu\n",
      "103 chintu\n"
     ]
    }
   ],
   "source": [
    "d={'101':'Monu','102':'sonu','103':'chintu'}\n",
    "for key,value in d.items():\n",
    "    print(key,value)"
   ]
  },
  {
   "cell_type": "markdown",
   "id": "0ca8e9fe-364d-4f46-81bf-ccbf2797c4ac",
   "metadata": {},
   "source": [
    "**10. Write a Python program to remove a key from a dictionary.**"
   ]
  },
  {
   "cell_type": "code",
   "execution_count": 41,
   "id": "cf8d5368-6901-4704-befe-f0a8a0441373",
   "metadata": {},
   "outputs": [
    {
     "name": "stdout",
     "output_type": "stream",
     "text": [
      "{'102': 'sonu', '103': 'chintu'}\n"
     ]
    }
   ],
   "source": [
    "d={'101':'Monu','102':'sonu','103':'chintu'}\n",
    "del d['101']\n",
    "print(d)"
   ]
  },
  {
   "cell_type": "markdown",
   "id": "9cc61d94-01bd-4274-b6ee-696bd6ecad8e",
   "metadata": {},
   "source": [
    "**11. Write a Python program to map two lists into a dictionary.**"
   ]
  },
  {
   "cell_type": "code",
   "execution_count": 23,
   "id": "58cc2301-4b51-4a4a-bc9c-84da92a0f19f",
   "metadata": {},
   "outputs": [
    {
     "name": "stdout",
     "output_type": "stream",
     "text": [
      "{'101': 'sonu', '102': 'monu', '103': 'rohan', '104': 'neetu', '105': 'rajan'}\n"
     ]
    }
   ],
   "source": [
    "l=['101','102','103','104','105']\n",
    "m=['sonu','monu','rohan','neetu','rajan']\n",
    "d=dict(zip(l,m))\n",
    "print(d)"
   ]
  },
  {
   "cell_type": "markdown",
   "id": "75d7504d-6961-4628-9002-c9b8e866231e",
   "metadata": {},
   "source": [
    "**12. Write a Python program to sort a dictionary by key.**"
   ]
  },
  {
   "cell_type": "code",
   "execution_count": 20,
   "id": "1ce497e7-bf68-4c1a-a39a-0c99276d39b7",
   "metadata": {},
   "outputs": [
    {
     "name": "stdout",
     "output_type": "stream",
     "text": [
      "[('101', '201'), ('102', '202'), ('103', '203')]\n"
     ]
    }
   ],
   "source": [
    "import operator\n",
    "d={'101':'201','102':'202','103':'203'}\n",
    "s1=sorted(d.items(),key=operator.itemgetter(0))\n",
    "print(s1)"
   ]
  },
  {
   "cell_type": "markdown",
   "id": "71f2ef20-5e90-4183-92f3-92a0791e7abb",
   "metadata": {},
   "source": [
    "**13. Write a Python program to remove duplicates(based on values) from Dictionary.**"
   ]
  },
  {
   "cell_type": "code",
   "execution_count": 27,
   "id": "eac5e833-5c81-4bbf-8727-aa5a33f40bb1",
   "metadata": {},
   "outputs": [
    {
     "name": "stdout",
     "output_type": "stream",
     "text": [
      "{'101': '201', '103': '203', '105': '205'}\n"
     ]
    }
   ],
   "source": [
    "d={'101':'201','102':'201','103':'203','104':'201','105':'205'}\n",
    "d1= {}\n",
    "for key,value in d.items():\n",
    "    if value not in d1.values():\n",
    "        d1[key]=value\n",
    "print(d1)"
   ]
  },
  {
   "cell_type": "markdown",
   "id": "72107854-2122-4d7e-b55e-06908c00246d",
   "metadata": {},
   "source": [
    "**14. Write a Python program to check a dictionary is empty or not.**"
   ]
  },
  {
   "cell_type": "code",
   "execution_count": 55,
   "id": "b911c803-f924-40ae-9c77-20d9fd648ad2",
   "metadata": {},
   "outputs": [
    {
     "name": "stdout",
     "output_type": "stream",
     "text": [
      "dictionary is not empty\n"
     ]
    }
   ],
   "source": [
    "d={'101':'sonu'}\n",
    "if(len(d)==0):\n",
    "    print('dictionary is empty')\n",
    "else:\n",
    "    print('dictionary is not empty')"
   ]
  },
  {
   "cell_type": "markdown",
   "id": "b10688ef-fd26-4b43-a912-0d9ba6788e95",
   "metadata": {},
   "source": [
    "**15. Write a Python program to combine two dictionary adding values for common keys.**"
   ]
  },
  {
   "cell_type": "code",
   "execution_count": 32,
   "id": "3fe350e8-5a63-48de-a80b-23e151a23b9b",
   "metadata": {},
   "outputs": [
    {
     "name": "stdout",
     "output_type": "stream",
     "text": [
      "{'a': 400, 'b': 400, 'c': 300, 'd': 400}\n"
     ]
    }
   ],
   "source": [
    "d1={'a': 100, 'b': 200, 'c':300}\n",
    "d2={'a': 300, 'b': 200, 'd':400}\n",
    "d3=dict(d1)\n",
    "d3.update(d2)\n",
    "for key,value in d1.items():\n",
    "    for x, y in d2.items():\n",
    "        if key == x:\n",
    "            d3[key]=(value+y)\n",
    "print(d3)"
   ]
  },
  {
   "cell_type": "markdown",
   "id": "b73a5660-8734-4a20-a66c-795b00f8a929",
   "metadata": {},
   "source": [
    "**16. Write a Python program to print a dictionary in table format.**"
   ]
  },
  {
   "cell_type": "code",
   "execution_count": 75,
   "id": "74f9fb8d-8e01-40ed-8346-9271166254c3",
   "metadata": {},
   "outputs": [
    {
     "name": "stdout",
     "output_type": "stream",
     "text": [
      "\tRoll :\tName\n",
      "\t101  : \tMonu\n",
      "\t102  : \tsonu\n",
      "\t103  : \tchintu\n"
     ]
    }
   ],
   "source": [
    "d={'101':'Monu','102':'sonu','103':'chintu'}\n",
    "print(\"\\tRoll :\\tName\")\n",
    "for key, value in d.items():\n",
    "    print('\\t{}  : \\t{}'.format(key,value))"
   ]
  },
  {
   "cell_type": "markdown",
   "id": "66a7dcf3-c67f-4d20-bdd4-6e975b0b7dad",
   "metadata": {},
   "source": [
    "**17. Write a Python program to get the top three items in a shop.**"
   ]
  },
  {
   "cell_type": "code",
   "execution_count": 77,
   "id": "f57eda27-48d9-46d2-bd33-d96e9b5bd4f5",
   "metadata": {},
   "outputs": [
    {
     "name": "stdout",
     "output_type": "stream",
     "text": [
      "item4 55\n",
      "item1 45.5\n",
      "item3 41.3\n"
     ]
    }
   ],
   "source": [
    "from heapq import nlargest\n",
    "from operator import itemgetter\n",
    "items = {'item1': 45.50, 'item2':35, 'item3': 41.30, 'item4':55, 'item5': 24}\n",
    "for name, value in nlargest(3, items.items(), key=itemgetter(1)):\n",
    "    print(name, value)"
   ]
  },
  {
   "cell_type": "markdown",
   "id": "37a186bc-e741-4b4d-81fc-a48a3ff15d64",
   "metadata": {},
   "source": [
    "**18. Write a Python program to match key values in two dictionaries.**"
   ]
  },
  {
   "cell_type": "code",
   "execution_count": 79,
   "id": "fe61e3bb-0425-421b-9c28-76fd44f60712",
   "metadata": {},
   "outputs": [
    {
     "name": "stdout",
     "output_type": "stream",
     "text": [
      "key1: 1 is present in both x and y\n"
     ]
    }
   ],
   "source": [
    "x = {'key1': 1, 'key2': 3, 'key3': 2}\n",
    "y = {'key1': 1, 'key2': 2}\n",
    "for (key, value) in set(x.items()) & set(y.items()):\n",
    "    print('%s: %s is present in both x and y' % (key, value))"
   ]
  },
  {
   "cell_type": "code",
   "execution_count": null,
   "id": "4c3693fa-bd48-446d-a999-247740c12c95",
   "metadata": {},
   "outputs": [],
   "source": []
  }
 ],
 "metadata": {
  "kernelspec": {
   "display_name": "Python 3 (ipykernel)",
   "language": "python",
   "name": "python3"
  },
  "language_info": {
   "codemirror_mode": {
    "name": "ipython",
    "version": 3
   },
   "file_extension": ".py",
   "mimetype": "text/x-python",
   "name": "python",
   "nbconvert_exporter": "python",
   "pygments_lexer": "ipython3",
   "version": "3.9.7"
  }
 },
 "nbformat": 4,
 "nbformat_minor": 5
}
